{
 "cells": [
  {
   "cell_type": "markdown",
   "metadata": {},
   "source": [
    "# 7.1 Objects\n",
    "- An object is an instance of it's type"
   ]
  },
  {
   "cell_type": "code",
   "execution_count": 12,
   "metadata": {},
   "outputs": [
    {
     "name": "stdout",
     "output_type": "stream",
     "text": [
      "<class 'set'>\n"
     ]
    }
   ],
   "source": [
    "der = {1, 2, 3, 4}\n",
    "print(type(der))"
   ]
  },
  {
   "cell_type": "markdown",
   "metadata": {},
   "source": [
    "# 7.2 Class \n",
    "- New objects are defined using class statement\n",
    "- Functions defined inside a class are known as methods\n",
    "- An instance method is function that operates on an instance of class ,which is passed as first argument self.\n",
    "- __init__ method is used to initialize the state when new instance is created\n",
    "- __repr__ method is used to return a string representation of object. \n"
   ]
  },
  {
   "cell_type": "code",
   "execution_count": 13,
   "metadata": {},
   "outputs": [],
   "source": [
    "class Account:\n",
    "    def __init__(self, owner, balance):\n",
    "        self.balance = balance\n",
    "        self.owner = owner\n",
    "\n",
    "    def __repr__(self):\n",
    "        return f\"Account {self.owner} {self.balance}\"\n",
    "\n",
    "    def deposit(self, amount):\n",
    "        self.balance += amount\n",
    "\n",
    "    def withdraw(self, amount):\n",
    "        self.balance -= amount\n",
    "\n",
    "    def inquiry(self):\n",
    "        return self.balance"
   ]
  },
  {
   "cell_type": "markdown",
   "metadata": {},
   "source": [
    "# 7.3 Instances\n",
    "- Instance of a class is created by calling a class object as a function\n",
    "- Each instance has its own state\n",
    "- We can view instance variable using vars() function"
   ]
  },
  {
   "cell_type": "code",
   "execution_count": 14,
   "metadata": {},
   "outputs": [
    {
     "name": "stdout",
     "output_type": "stream",
     "text": [
      "{'balance': 1000, 'owner': 'Guido'}\n",
      "<class '__main__.Account'> <function Account.deposit at 0x000002A065E17100>\n"
     ]
    }
   ],
   "source": [
    "a = Account(\"Guido\", 1000)\n",
    "print(vars(a))\n",
    "print(type(a), type(a).deposit)"
   ]
  },
  {
   "cell_type": "markdown",
   "metadata": {},
   "source": [
    "# 7.4 Attribute Access\n",
    "-  There are three type of operations can be performed on instances : Getting(getattr()),Setting(setattr()),Deleting(delattr())\n",
    "- If you want to add a new attribute to an object after it's been created ,you're free to do that\n",
    "- getattr() => instance.attribute\n",
    "- setattr() => instance.attribute = some_value\n",
    "- delattr() => del instance.attribute\n",
    "- hasattr() => Check if instance has attribute"
   ]
  },
  {
   "cell_type": "code",
   "execution_count": 15,
   "metadata": {},
   "outputs": [
    {
     "name": "stdout",
     "output_type": "stream",
     "text": [
      "10000\n",
      "10000\n",
      "{'balance': 10000, 'owner': 'Guido', 'to_be_deleted1': None, 'to_be_deleted2': None}\n",
      "{'balance': 10000, 'owner': 'Guido'}\n"
     ]
    },
    {
     "data": {
      "text/plain": [
       "True"
      ]
     },
     "execution_count": 15,
     "metadata": {},
     "output_type": "execute_result"
    }
   ],
   "source": [
    "########################### Setting #################################\n",
    "setattr(a, \"balance\", 10000)\n",
    "a.balance = 10000\n",
    "########################### Getting #################################\n",
    "print(getattr(a, \"balance\"))\n",
    "print(a.balance)\n",
    "########################### Add Attribute #################################\n",
    "a.to_be_deleted1 = None\n",
    "a.to_be_deleted2 = None\n",
    "print(vars(a))\n",
    "########################### Deleting #################################\n",
    "del a.to_be_deleted1\n",
    "delattr(a, \"to_be_deleted2\")\n",
    "print(vars(a))\n",
    "########################### Check Existance #################################\n",
    "hasattr(a, \"balance\")"
   ]
  },
  {
   "cell_type": "markdown",
   "metadata": {},
   "source": [
    "# 7.5 Scoping Rules\n",
    "- When implementing a class reference to attributes & method must be fully qualified\n",
    "- Always reference attibutes of instance using self"
   ]
  },
  {
   "cell_type": "markdown",
   "metadata": {},
   "source": [
    "# 7.6 Operator overloading & Protocals\n",
    "- You can use special methods to overload or create operator on class instances"
   ]
  },
  {
   "cell_type": "code",
   "execution_count": 16,
   "metadata": {},
   "outputs": [
    {
     "name": "stdout",
     "output_type": "stream",
     "text": [
      "5\n",
      "1_2_3_4_5\n",
      "[1, 2, 3, 4, 5]\n",
      "2\n"
     ]
    }
   ],
   "source": [
    "class Operator:\n",
    "    def __init__(self) -> None:\n",
    "        self.storage = [1, 2, 3, 4, 5]\n",
    "\n",
    "    def __str__(self):\n",
    "        return \"_\".join(map(str, self.storage))\n",
    "\n",
    "    def __iter__(self):\n",
    "        for i in self.storage:\n",
    "            yield i\n",
    "        return i\n",
    "\n",
    "    def __len__(self):\n",
    "        return len(self.storage)\n",
    "\n",
    "    def __getitem__(self, index):\n",
    "        return self.storage[index]\n",
    "\n",
    "\n",
    "op = Operator()\n",
    "print(len(op))\n",
    "print(op)\n",
    "print(list(i for i in op))\n",
    "print(op[1])"
   ]
  },
  {
   "cell_type": "markdown",
   "metadata": {},
   "source": [
    "# 7.7 Inheritance\n",
    "- Inheritance is a mechanism for creating a new class that inherits or modifies the behaviour of existing class\n",
    "- Orginal class is called base class or super class or parent class\n",
    "- New class is called child class ,sub class,subtype\n",
    "- A derived class may or may not redefine attributes of parent class\n",
    "- Inheritance is specified with comma-separated list of base class names in the class statement\n",
    "- If you need access any specific attributes/method for parent class use super() keyword to access it"
   ]
  },
  {
   "cell_type": "code",
   "execution_count": 17,
   "metadata": {},
   "outputs": [
    {
     "name": "stdout",
     "output_type": "stream",
     "text": [
      "True\n",
      "True\n",
      "True\n",
      "True\n",
      "False\n",
      "Parent\n",
      "Child\n",
      "I am Parent\n",
      "I am Child\n",
      "I am Parent\n",
      "True\n"
     ]
    }
   ],
   "source": [
    "class Parent:\n",
    "    def __init__(self):\n",
    "        self.name = \"Parent\"\n",
    "\n",
    "    def who_are_you(self):\n",
    "        return \"I am Parent\"\n",
    "\n",
    "\n",
    "class Child(Parent):\n",
    "    def __init__(self):\n",
    "        super().__init__()\n",
    "        self.name = \"Child\"\n",
    "\n",
    "    def who_are_you(self):\n",
    "        return \"I am Child\"\n",
    "\n",
    "    def parent_who_are_you(self):\n",
    "        return super().who_are_you()\n",
    "\n",
    "    def are_you_child(self):\n",
    "        return True\n",
    "\n",
    "\n",
    "p = Parent()\n",
    "c = Child()\n",
    "print(isinstance(p, Parent))\n",
    "print(isinstance(c, Parent))\n",
    "print(isinstance(c, Child))\n",
    "print(issubclass(Child, Parent))\n",
    "print(issubclass(Parent, Child))\n",
    "print(p.name)\n",
    "print(c.name)\n",
    "print(p.who_are_you())\n",
    "print(c.who_are_you())\n",
    "print(c.parent_who_are_you())\n",
    "print(c.are_you_child())"
   ]
  },
  {
   "cell_type": "markdown",
   "metadata": {},
   "source": [
    "# 7.8 Avoiding Inheritance via Composition\n",
    " "
   ]
  },
  {
   "cell_type": "code",
   "execution_count": null,
   "metadata": {},
   "outputs": [],
   "source": []
  },
  {
   "cell_type": "markdown",
   "metadata": {},
   "source": [
    "# 7.12 Class variables & Methods\n",
    "- In class definition all the functions are assumed to operate on an instance\n",
    "- However class itself is also a object that can carry state & manipulated as well"
   ]
  },
  {
   "cell_type": "code",
   "execution_count": 18,
   "metadata": {},
   "outputs": [
    {
     "name": "stdout",
     "output_type": "stream",
     "text": [
      "0 class_var\n",
      "0 class_var\n",
      "1 Modified\n",
      "[4, 9, 16]\n"
     ]
    }
   ],
   "source": [
    "class A:\n",
    "    num = 0\n",
    "    name = \"class_var\"\n",
    "\n",
    "    def __init__(self, data) -> None:\n",
    "        self.data = data\n",
    "\n",
    "    def modify_class_var(self):\n",
    "        A.num += 1  # Accessing class var using class\n",
    "        self.name = \"Modified\"  # Accessing class var using self\n",
    "\n",
    "    @classmethod\n",
    "    def from_squared_list(cls, data):\n",
    "        lst = list(map(lambda x: x * x, data))\n",
    "        return cls(lst)\n",
    "\n",
    "\n",
    "a = A([2, 3, 4])\n",
    "print(A.num, A.name)\n",
    "print(a.num, a.name)\n",
    "a.modify_class_var()\n",
    "print(a.num, a.name)\n",
    "b = A.from_squared_list([2, 3, 4])  # using class method to initialize class\n",
    "print(b.data)"
   ]
  },
  {
   "cell_type": "markdown",
   "metadata": {},
   "source": [
    "# 7.13 Static Methods\n",
    "- Class is merely used as a namespace for functions declared as static method using @staticmethod\n",
    "- Unlike normal method or class method, a static method does not take an extra argument like self,cls\n",
    "- Static method is just a ordinary function that happens to be defined inside a class\n",
    "- Basically is mimics the behavior of an import module"
   ]
  },
  {
   "cell_type": "code",
   "execution_count": null,
   "metadata": {},
   "outputs": [],
   "source": []
  },
  {
   "cell_type": "markdown",
   "metadata": {},
   "source": [
    "# 7.15 Data Encapsulation & Private Attributes\n",
    "- In Python all attributes & method are public ,accesible without any restriction. This is generally undesirable in OOP\n",
    "- Python relies on naming convention,use a leading underscor to signal if method/attributes is private.\n",
    "- But nothing prevents user from accessing it directly.\n",
    "- These are also available in child classes as well.\n",
    "- To prevent this behaviour in child classes use double underscore before name which resolves to _Classname_name"
   ]
  },
  {
   "cell_type": "code",
   "execution_count": 19,
   "metadata": {},
   "outputs": [
    {
     "name": "stdout",
     "output_type": "stream",
     "text": [
      "{'_private_var': 'Class Secure', '_Private__secure_var': 'Class Private', '_Secure__secure_var': 'Class Secure'}\n"
     ]
    }
   ],
   "source": [
    "class Private:\n",
    "    def __init__(self) -> None:\n",
    "        self._private_var = \"Class Private\"\n",
    "        self.__secure_var = \"Class Private\"\n",
    "\n",
    "\n",
    "class Secure(Private):\n",
    "    def __init__(self) -> None:\n",
    "        super().__init__()\n",
    "        self._private_var = \"Class Secure\"\n",
    "        self.__secure_var = \"Class Secure\"\n",
    "\n",
    "\n",
    "s = Secure()\n",
    "print(vars(s))"
   ]
  },
  {
   "cell_type": "markdown",
   "metadata": {},
   "source": [
    "# 7.16 Type Hinting\n",
    "- Attributes of user defined classes have no constraints on their type or value.\n",
    "- So we use type hints to indicate type/value.\n",
    "- Inclusion of type hints chages nothing it is just for info purpose"
   ]
  },
  {
   "cell_type": "code",
   "execution_count": 20,
   "metadata": {},
   "outputs": [],
   "source": [
    "class Account:\n",
    "    owner: str  # Type hint\n",
    "    balance: float  # Type hint\n",
    "\n",
    "    def __init__(self, owner, balance) -> None:\n",
    "        pass"
   ]
  },
  {
   "cell_type": "markdown",
   "metadata": {},
   "source": [
    "# 7.17 Properties \n",
    "- Python place no runtime restriction on attribute value or types\n",
    "- It can be enforced using property\n",
    "- Purpose of property to apply custom rule while getting or setting attributes.\n",
    "- It is not mandate to use both get and set any one also can be implemented"
   ]
  },
  {
   "cell_type": "code",
   "execution_count": 21,
   "metadata": {},
   "outputs": [
    {
     "name": "stdout",
     "output_type": "stream",
     "text": [
      "Setting........\n",
      "Getting........\n",
      "14\n",
      "Deleting........\n"
     ]
    }
   ],
   "source": [
    "class Person:\n",
    "    def __init__(self, value) -> None:\n",
    "        self.name = value\n",
    "\n",
    "    @property  # Getter\n",
    "    def name(self):\n",
    "        print(\"Getting........\")\n",
    "        return self._name\n",
    "\n",
    "    @name.setter  # Setter\n",
    "    def name(self, value):\n",
    "        print(\"Setting........\")\n",
    "        if not isinstance(value, str):\n",
    "            raise TypeError(\"Expected String\")\n",
    "        if not len(value) <= 10:\n",
    "            raise ValueError(\"Expected length less than or equal to 10\")\n",
    "        self._name = value\n",
    "\n",
    "    @name.deleter\n",
    "    def name(self):\n",
    "        print(\"Deleting........\")\n",
    "        self._name = None\n",
    "\n",
    "\n",
    "# a = Person(14) Will Error Out with Expected String\n",
    "b = Person(\"14\")\n",
    "print(b.name)\n",
    "del b.name\n",
    "# c = Person('14asdasdasda') Will Error Out with Expected length less than or equal to 10"
   ]
  },
  {
   "cell_type": "markdown",
   "metadata": {},
   "source": [
    "# 7.18 Types,Interfaces, and Abstract Base Classes\n",
    "- The type of a instance is the class itself.\n",
    "- To test membership in a class, use the built-in function isinstance(obj,cls)\n",
    "- This function return True if an object obj , belongs to the class cls or any derived(child) class from cls\n",
    "- issubclass(A,B) returns True if the class A is a subclass of Class B.\n",
    "- In Python we can implement interface as abstract base classes using abc module\n",
    "- This module defines base class ABC and a decorator using @abstractmethod decorator\n",
    "- Both of above used together to describe an interface."
   ]
  },
  {
   "cell_type": "code",
   "execution_count": 22,
   "metadata": {},
   "outputs": [],
   "source": [
    "from abc import ABC, abstractmethod\n",
    "\n",
    "\n",
    "class Contract(ABC):\n",
    "    @abstractmethod\n",
    "    def name_it(self):\n",
    "        pass\n",
    "\n",
    "    @abstractmethod\n",
    "    def shape_it(self):\n",
    "        pass\n",
    "\n",
    "\n",
    "# c = Contract()    # Abstract can't be instantiated .It'll error out\n",
    "\n",
    "\n",
    "class SubContract(Contract):\n",
    "    \"\"\"This class will be required to define name_it and shape_it methods otherwise it'll give error\"\"\"\n",
    "\n",
    "    def name_it(self):\n",
    "        pass\n",
    "\n",
    "    def shape_it(self):\n",
    "        pass\n",
    "\n",
    "\n",
    "s = SubContract()"
   ]
  },
  {
   "cell_type": "markdown",
   "metadata": {},
   "source": [
    "# 7.19 Multiple Inheritance, Interfaces ,and Mixins\n",
    "- Python supports multiple inheritance.If a child class lists more than one parent, the child inherits all of the features of the parents.\n",
    "- Taking a collection  of arbitrary unrelated classes and combining them together with multiple inheritance to create weird class isn't standard practice.\n",
    "- A more common use of multiple inheritacne is organizing type & interface relations"
   ]
  },
  {
   "cell_type": "markdown",
   "metadata": {},
   "source": [
    "# 7.23 The Object Life Cycle and Memory Management\n",
    "-  Creation of instance of class is done in two steps\n",
    "    - `__new__()` special method that creates the instance.\n",
    "    - `__init__()` that initialzes it.\n",
    "    - Except for the first argument which is class , `__new__()` normally receives same same argument as `__init__()` method.\n",
    "    - In the default implementation of `__new__()` only class parameters is mandatory else are optional.\n",
    "- Direct use of `__new__()` is uncommon, but sometimes it is used to create instances while bypassing the invoation of `__init__()`\n",
    "- `__new__()` is used if you want to customize the instance creation\n",
    "- Once created instances are managed by reference counting if reference count reaches zero the instance is immediately deleted.\n",
    "- When instance is about to be deleted it calls `__del__()` method associated with object.\n",
    "- del statement is used to delete a reference to an object.\n",
    "- If above causes the reference count to be zero then `__del__()` method is called.\n",
    "- But if there are still references then it won't be called.\n",
    "- Sometimes there are cyclic references due to which object are not cleaned up for this python runs cycle-detectng garbage collector often.\n",
    "- If you want to force garbage collect you can call gc.collect()"
   ]
  },
  {
   "cell_type": "code",
   "execution_count": null,
   "metadata": {},
   "outputs": [],
   "source": []
  },
  {
   "cell_type": "markdown",
   "metadata": {},
   "source": [
    "# 7.24 Weak References\n",
    "- A weak reference is a way of creating a reference to an object without increaisng it reference count\n",
    "- To work with a weak reference you have to add an extra code to check if object being referred exists or not\n",
    "- Support for weak reference requires instance to have a mutable `__weakref__` attribute.\n",
    "- Instance of user defined classes normally have such an attribute by default , However some build in types do not\n",
    "- If you need to add weak references to these types you can do it by defining with a `__weakref__` attributes"
   ]
  },
  {
   "cell_type": "code",
   "execution_count": 31,
   "metadata": {},
   "outputs": [
    {
     "name": "stdout",
     "output_type": "stream",
     "text": [
      "<__main__.Account object at 0x000002A065E7F500>\n",
      "<weakref at 0x000002A065E45760; to 'Account' at 0x000002A065E7F500>\n",
      "<__main__.Account object at 0x000002A065E7F500>\n",
      "<weakref at 0x000002A065E45760; to 'Account' at 0x000002A065E7F500>\n"
     ]
    }
   ],
   "source": [
    "act = Account('XYZ',1234)\n",
    "print(act)\n",
    "import weakref\n",
    "act_ref = weakref.ref(act)  # Creating a weakref to above account instance\n",
    "print(act_ref)\n",
    "actual_act_obj = act_ref() # Getting actual object referred using weakref\n",
    "print(actual_act_obj)\n",
    "del act\n",
    "print(act_ref)"
   ]
  }
 ],
 "metadata": {
  "kernelspec": {
   "display_name": "Python 3",
   "language": "python",
   "name": "python3"
  },
  "language_info": {
   "codemirror_mode": {
    "name": "ipython",
    "version": 3
   },
   "file_extension": ".py",
   "mimetype": "text/x-python",
   "name": "python",
   "nbconvert_exporter": "python",
   "pygments_lexer": "ipython3",
   "version": "3.12.4"
  }
 },
 "nbformat": 4,
 "nbformat_minor": 2
}
