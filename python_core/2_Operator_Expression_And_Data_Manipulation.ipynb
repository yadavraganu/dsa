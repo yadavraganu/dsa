{
 "cells": [
  {
   "cell_type": "markdown",
   "metadata": {},
   "source": [
    "# 2.1 Literals"
   ]
  },
  {
   "cell_type": "code",
   "execution_count": 31,
   "metadata": {},
   "outputs": [
    {
     "name": "stdout",
     "output_type": "stream",
     "text": [
      "########################### Integer Literals ################################\n",
      "42\n",
      "42\n",
      "42\n",
      "42\n",
      "12\n",
      "########################### Float Literals ################################\n",
      "4.2\n",
      "42.0\n",
      "0.42\n",
      "420.0\n",
      "420.0\n",
      "-0.042\n",
      "1.22\n",
      "########################### Boolean Literals ################################\n",
      "True\n",
      "False\n",
      "########################### String Literals ################################\n",
      "Single \"quote string\n",
      "Double ' quote string\n",
      "Double ' quote \" string\n",
      "########################### Tuple, List, Set ,Dict Literals ################################\n",
      "(1, 2)\n",
      "[1, 2, 'A']\n",
      "{1, 2}\n",
      "{1: 'One', 2: 'Two'}\n"
     ]
    }
   ],
   "source": [
    "print(\"########################### Integer Literals ################################\")\n",
    "print(42)  # Decimal Integer\n",
    "print(0b101010)  # Binary Integer\n",
    "print(0o52)  # Octal Integer\n",
    "print(0x2A)  # Hexadecimal Integer\n",
    "print(1_2)  # _ is used as a visual separator between digits\n",
    "\n",
    "print(\"########################### Float Literals ################################\")\n",
    "print(4.2)\n",
    "print(42.0)\n",
    "print(0.42)\n",
    "print(4.2e2)\n",
    "print(4.2e2)\n",
    "print(-4.2e-2)\n",
    "print(1.2_2)\n",
    "\n",
    "print(\"########################### Boolean Literals ################################\")\n",
    "print(True)\n",
    "print(False)\n",
    "\n",
    "print(\"########################### String Literals ################################\")\n",
    "print('Single \"quote string')\n",
    "print(\"Double ' quote string\")\n",
    "print(\"\"\"Double ' quote \" string\"\"\")\n",
    "\n",
    "print(\n",
    "    \"########################### Tuple, List, Set ,Dict Literals ################################\"\n",
    ")\n",
    "print((1, 2))\n",
    "print([1, 2, \"A\"])\n",
    "print({1, 1, 2})\n",
    "print({1: \"One\", 2: \"Two\"})"
   ]
  },
  {
   "cell_type": "markdown",
   "metadata": {},
   "source": [
    "# 2.2 Expression and Location\n",
    "- Expression consist of a combination of literals ,names, operators & function or method calls\n",
    "- Expression can appear on the right hand side of an assignment statement\n",
    "- Left hand side of an assignment represents a location where a reference to an object is stored."
   ]
  },
  {
   "cell_type": "markdown",
   "metadata": {},
   "source": [
    "# 2.3 Standard Operator\n",
    "---\n",
    "- x + y --> Addition \n",
    "- x - y --> Substraction \n",
    "- x * y --> Multiplication \n",
    "- x / y --> Division ()It produces floating-point number\n",
    "- x // y --> Truncating Division (Floor Division)\n",
    "- x ** y --> Power\n",
    "- x % y --> Modulo\n",
    "- x @ y --> matrix Multiplecation\n",
    "- -x --> Unary Minus\n",
    "- +x --> Unary Plus\n",
    "---\n",
    "- abs(x) --> Absolute value\n",
    "- divmod(x,y) --> Returns (x // y, x % y)\n",
    "- pow(x,y[,modulo]) --> Returns (x**y) % y modulo\n",
    "- round(x,[n]) --> Rounds to n places\n",
    "---\n",
    "- x << y --> Left Shift\n",
    "- x >> y --> Right Shift\n",
    "- x & y --> Bitwise and\n",
    "- x | y --> Bitwise or\n",
    "- x ^ y --> Bitwise xor (exclusive or)\n",
    "- ~x --> Bitwise negation\n",
    "---\n",
    "- x == y --> Equal to\n",
    "- x != y --> Not equal to\n",
    "- x < y --> Less than\n",
    "- x > y --> Greater than\n",
    "- x >= y --> Greater than or equal to\n",
    "- x <= y --> Less than or equal to\n",
    "---\n",
    "- x or y --> Logical or\n",
    "- x and y --> Logical and\n",
    "- not x --> Logical not"
   ]
  },
  {
   "cell_type": "markdown",
   "metadata": {},
   "source": [
    "# 2.4 In-Place Assignment\n",
    "- x += y   --> x = x + y\n",
    "- x -= y   --> x = x - y\n",
    "- x *= y   --> x = x * y\n",
    "- x /= y   --> x = x / y\n",
    "- x //= y  --> x = x // y\n",
    "- x **= y  --> x = x ** y\n",
    "- x %= y   --> x = x % y\n",
    "- x @= y   --> x = x @ y\n",
    "- x &= y   --> x = x & y\n",
    "- x |= y   --> x = x | y\n",
    "- x ^= y   --> x = x ^ y\n",
    "- x >>= y  --> x = x >> y\n",
    "- x <<= y  --> x = x << y\n",
    "- Mutable objects can use these operation to perform an in-place mutation."
   ]
  },
  {
   "cell_type": "markdown",
   "metadata": {},
   "source": [
    "# 2.5 Object Comparison\n",
    "- The equality operator == tests the values of x and y for equality.\n",
    "- In case of lists,tuples they must be equal size,equal elements and be in same order.\n",
    "- For dictionaries True is returned only if x and y have same set of keys and all objects with same key have equal values.\n",
    "- Two sets are equal if they the same elements\n",
    "- An equality compariosn betweeen objects of incompatible type returns False\n",
    "- The identity operator (x is y and x is not y) test two values to see whether they refer to literally the same object in memory"
   ]
  },
  {
   "cell_type": "code",
   "execution_count": 32,
   "metadata": {},
   "outputs": [
    {
     "name": "stdout",
     "output_type": "stream",
     "text": [
      "True\n",
      "True\n"
     ]
    }
   ],
   "source": [
    "a = [1, 2]\n",
    "b = a\n",
    "print(a is b)\n",
    "print(b is a)"
   ]
  },
  {
   "cell_type": "markdown",
   "metadata": {},
   "source": [
    "# 2.6 Ordered Comparison Operators\n",
    "- x < y - Less than\n",
    "- x > y - Greater than\n",
    "- x >= y - Greater than or equal to \n",
    "- x <= y - Less than or equal to\n",
    "- For sets, x < y tests if x is strict of y (i.e. has fewer elements, but is not equal to y)\n",
    "- When comparing two sequences comparison happens element by element. If a is subsequence of b then a < b"
   ]
  },
  {
   "cell_type": "code",
   "execution_count": 33,
   "metadata": {},
   "outputs": [
    {
     "name": "stdout",
     "output_type": "stream",
     "text": [
      "True\n",
      "True\n",
      "True\n",
      "False\n"
     ]
    }
   ],
   "source": [
    "print([1, 2, 3] == [1, 2, 3])\n",
    "print([1, 2] < [1, 2, 3])\n",
    "print({1, 2} < {1, 2, 3})\n",
    "print({1, 2, 3} < {1, 2, 3})"
   ]
  },
  {
   "cell_type": "markdown",
   "metadata": {},
   "source": [
    "# 2.7 Boolean Expressions and Truth Values\n",
    "- x or y  --> Logical or\n",
    "- x and y --> Logical and\n",
    "- not x   --> Logical not\n",
    "- True, Any nonzero ,number, a non empty string, list,tuple ,dictionary is taken to be True\n",
    "- False, Zero ,None, Empty list, Empty Tuple or Empty Dictionary is taken to be False"
   ]
  },
  {
   "cell_type": "markdown",
   "metadata": {},
   "source": [
    "# 2.8 Conditional Expressions\n"
   ]
  },
  {
   "cell_type": "code",
   "execution_count": 34,
   "metadata": {},
   "outputs": [
    {
     "name": "stdout",
     "output_type": "stream",
     "text": [
      "4\n",
      "1\n"
     ]
    }
   ],
   "source": [
    "print(1 if 1 > 2 else 4)\n",
    "print(1 if 1 < 2 else 4)"
   ]
  },
  {
   "cell_type": "markdown",
   "metadata": {},
   "source": [
    "# 2.9 Operations Involving Iterables\n",
    "- When unpacking values into location the number of locations on the left must excatly match number of items in iterable on the right\n",
    "- Sometimes _ is used to indicate a throw away value\n",
    "---\n",
    "- list(s)      --> Create a list from s\n",
    "- tuple(s)     --> Create a tuple from s\n",
    "- set(s)       --> Create a set from s\n",
    "- min(s)       --> Minimum of set s\n",
    "- max(s)       --> Maximum of set s\n",
    "- any(s)       --> Return True if any item in s is true\n",
    "- all(s)       --> Return True if all item in s are true\n",
    "- sum(s[,initial])     --> Sum of items with an optional initial vale\n",
    "- sorted(s,0)  --> Create a set from s"
   ]
  },
  {
   "cell_type": "code",
   "execution_count": 35,
   "metadata": {},
   "outputs": [
    {
     "name": "stdout",
     "output_type": "stream",
     "text": [
      "1\n",
      "2\n",
      "3\n",
      "1 2 3 1\n",
      "1 2 [3, 4, 5]\n",
      "[1, 2, 3] 4 5\n",
      "1 [2, 3, 4] 5\n",
      "True\n",
      "False\n",
      "[1, 2, 1, 3, 5]\n",
      "(1, 2, 1, 3, 5)\n",
      "{1, 2, 3, 5}\n"
     ]
    }
   ],
   "source": [
    "# Iteration\n",
    "for x in [1, 2, 3]:\n",
    "    print(x)\n",
    "\n",
    "# Variable Unpacking\n",
    "a, b, c = [1, 2, 3]\n",
    "x, _, _ = [1, 2, 3]\n",
    "print(a, b, c, x)\n",
    "items = [1, 2, 3, 4, 5]\n",
    "a, b, *x = items\n",
    "print(a, b, x)\n",
    "*a, b, x = items\n",
    "print(a, b, x)\n",
    "a, *b, x = items\n",
    "print(a, b, x)\n",
    "\n",
    "# Membership\n",
    "print(1 in [1, 2, 3])\n",
    "print(1 not in [1, 2, 3])\n",
    "\n",
    "# Expansion in list ,tuple or set literals\n",
    "items = [1, 3, 5]\n",
    "print([1, 2, *items])\n",
    "print((1, 2, *items))\n",
    "print({*items, 1, 2, *items})"
   ]
  },
  {
   "cell_type": "markdown",
   "metadata": {},
   "source": [
    "# 2.10 Operation on Sequences\n",
    "- s + r         --> Concatenation\n",
    "- s * n ,n * s  --> Makes n copies of s ,where n is an integer\n",
    "- s[i]          --> Index\n",
    "- s[i:j]        --> Slicing\n",
    "- s[i:j:step]   --> Extended Slicing\n",
    "- len(s)        --> Length"
   ]
  },
  {
   "cell_type": "code",
   "execution_count": 37,
   "metadata": {},
   "outputs": [
    {
     "name": "stdout",
     "output_type": "stream",
     "text": [
      "[2, 3, 4]\n",
      "[0, 1, 2]\n",
      "[7, 8, 9]\n",
      "[0, 2, 4, 6, 8]\n",
      "[9, 7, 5, 3, 1]\n",
      "[0, 2, 4]\n",
      "[5, 3, 1]\n",
      "[0, 1, 2, 3, 4]\n",
      "[5, 6, 7, 8, 9]\n",
      "[5, 4, 3, 2, 1, 0]\n",
      "[5, 4, 3, 2, 1]\n",
      "[0, 1, 2, 3, 4]\n"
     ]
    }
   ],
   "source": [
    "a = list(range(0,10))\n",
    "print(a[2:5])\n",
    "print(a[:3])\n",
    "print(a[-3:])\n",
    "print(a[::2])\n",
    "print(a[::-2])\n",
    "print(a[0:5:2])\n",
    "print(a[5:0:-2])\n",
    "print(a[:5:1])\n",
    "print(a[5::1])\n",
    "print(a[5::-1])\n",
    "print(a[5:0:-1])\n",
    "print(a[slice(0,5)])"
   ]
  }
 ],
 "metadata": {
  "kernelspec": {
   "display_name": "Python 3",
   "language": "python",
   "name": "python3"
  },
  "language_info": {
   "codemirror_mode": {
    "name": "ipython",
    "version": 3
   },
   "file_extension": ".py",
   "mimetype": "text/x-python",
   "name": "python",
   "nbconvert_exporter": "python",
   "pygments_lexer": "ipython3",
   "version": "3.12.4"
  }
 },
 "nbformat": 4,
 "nbformat_minor": 2
}
