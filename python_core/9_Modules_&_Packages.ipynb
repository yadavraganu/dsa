{
 "cells": [
  {
   "cell_type": "markdown",
   "metadata": {},
   "source": [
    "# 8.1 Modules & Import statement\n",
    "Any Python source file can be imported as a module. In executing an import, several things happen:\n",
    "- The module source code is located. If it can’t be found, an ImportError exception is raised.\n",
    "- A new module object is created. This object serves as a container for all of the global definitions contained within the module. It’s sometimes referred to as a namespace\n",
    "- The module source code is executed within the newly created module namespace\n",
    "- If no errors occur, a name is created within the caller that refers to the new module object\n",
    "-  All definitions that appear in a module remain isolated to that module. Thus, there is no risk of the names of variables, functions, and classes clashing with identical names in other modules\n",
    "- The file needs to be placed in one of the directories found in sys.path\n",
    "- When a module is renamed, the new name only applies to the context where the import statement appeared. Other unrelated program modules can still load the module using its original name"
   ]
  },
  {
   "cell_type": "markdown",
   "metadata": {},
   "source": [
    "# 8.2 Module Caching\n",
    "- The source code for a module is loaded and executed only once, regardless of how often you use the import statement\n",
    "- Python will never reload a previously imported module even if the underlying source code has been updated\n",
    "- You can find the cache of all currently loaded modules in sys.modules, which is a dictionary that maps module names to module objects"
   ]
  },
  {
   "cell_type": "markdown",
   "metadata": {},
   "source": [
    "# 8.3 Importing Selected Names from a Module\n",
    "- You can load specific definitions from a module into the current namespace using the from module import name statement\n",
    "- The from statement accepts comma-separated names if you want multiple definitions\n",
    "- A common misconception is that the from module import name statement is more efficient—possibly only loading part of a module.\n",
    "- This is not the case. Either way, the entire module is loaded and stored in the cache\n",
    "- Importing functions using the from syntax does not change their scoping rules. When functions look for variables, they only look within the file where the function was defined, not the namespace into which a function is imported and called\n",
    "- The asterisk (*) wildcard character is sometimes used to load all the definitions in a module, except those that start with an underscore\n",
    "- Modules can precisely control the set of names imported by from module import * by defining the list `__all__`."
   ]
  },
  {
   "cell_type": "markdown",
   "metadata": {},
   "source": [
    "# 8.4 Circular Imports"
   ]
  },
  {
   "cell_type": "markdown",
   "metadata": {},
   "source": [
    "# 8.5 Moduel Reloading & Unloading\n",
    "- There is no reliable support for reloading or unloading of previously imported modules\n",
    "- Although you can remove a module from sys.modules, this does not unload a module from memory. This is because references to the cached module object still exist in other\n",
    "modules that imported that module\n",
    "- If you remove a module from sys.modules and use import to reload it, this will not retroactively change all of the previous references to the module used in a program\n",
    "- Instead, you’ll have one reference to the new module created by the most recent import statement, and a set of references to the old module created by imports in other parts of the code\n",
    "- There is a reload() function for reloading a module that can be found in the importlib library. As an argument, you pass it the already loaded module\n",
    "- reload() works by loading a new version of the module source code and then executing it on top of the already existing module namespace. This is done without clearing the previous namespace"
   ]
  },
  {
   "cell_type": "markdown",
   "metadata": {},
   "source": [
    "# 8.6 Module Compilation\n",
    "- When modules are first imported, they are compiled into an interpreter bytecode. This code is written to a .pyc file within a special `__pycache__` directory\n",
    "- This directory is usually found in the same directory as the original .py file\n",
    "- When the same import occurs again on a different run of the program, the compiled bytecode is loaded instead. This significantly speeds up the import process"
   ]
  },
  {
   "cell_type": "markdown",
   "metadata": {},
   "source": [
    "# 8.7 The Module Search Path\n",
    "- When importing modules, the interpreter searches the list of directories in sys.path\n",
    "- The first entry in sys.path is often an empty string '', which refers to the current working directory\n",
    "- The order in which entries are listed in sys.path determines the search order used when importing modules\n",
    "- The other entries in sys.path usually consist of a mix of directory names and .zip archive files"
   ]
  },
  {
   "cell_type": "markdown",
   "metadata": {},
   "source": [
    "# 8.8 Execution As The Main Program\n",
    "- Each module contains a variable, `__name__`, that holds the module name\n",
    "- Programs specified on the command line or entered interactively run inside the `__main__` module\n",
    "- Sometimes a program may alter its behavior, depending on whether it has been imported as a module or is running in `__main__`\n",
    "- If you’ve made a directory of Python code, you can execute the directory if it contains a special __main__.py file\n",
    "- You can run Python on it by typing `python3 dirname`. Execution will start in the `__main__.py` file.\n",
    "- This also works if you turn the dirname directory into a ZIP archive.Typing `python3 dirname.zip` will look for a top-level `__main__.py` file and execute it if found.\n"
   ]
  },
  {
   "cell_type": "code",
   "execution_count": null,
   "metadata": {},
   "outputs": [],
   "source": []
  }
 ],
 "metadata": {
  "language_info": {
   "name": "python"
  }
 },
 "nbformat": 4,
 "nbformat_minor": 2
}
