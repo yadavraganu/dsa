{
 "cells": [
  {
   "cell_type": "markdown",
   "metadata": {},
   "source": [
    "# 7.1 Objects\n",
    "- An object is an instance of it's type"
   ]
  },
  {
   "cell_type": "code",
   "execution_count": 15,
   "metadata": {},
   "outputs": [
    {
     "name": "stdout",
     "output_type": "stream",
     "text": [
      "<class 'set'>\n"
     ]
    }
   ],
   "source": [
    "der = {1, 2, 3, 4}\n",
    "print(type(der))"
   ]
  },
  {
   "cell_type": "markdown",
   "metadata": {},
   "source": [
    "# 7.2 class \n",
    "- New objects are defined using class statement\n",
    "- Functions defined inside a class are known as methods\n",
    "- An instance method is function that operates on an instance of class ,which is passed as first argument self.\n",
    "- __init__ method is used to initialize the state when new instance is created\n",
    "- __repr__ method is used to return a string representation of object. \n"
   ]
  },
  {
   "cell_type": "code",
   "execution_count": 16,
   "metadata": {},
   "outputs": [],
   "source": [
    "class Account:\n",
    "    def __init__(self, owner, balance):\n",
    "        self.balance = balance\n",
    "        self.owner = owner\n",
    "\n",
    "    def __repr__(self):\n",
    "        return f\"Account {self.owner} {self.balance}\"\n",
    "\n",
    "    def deposit(self, amount):\n",
    "        self.balance += amount\n",
    "\n",
    "    def withdraw(self, amount):\n",
    "        self.balance -= amount\n",
    "\n",
    "    def inquiry(self):\n",
    "        return self.balance"
   ]
  },
  {
   "cell_type": "markdown",
   "metadata": {},
   "source": [
    "# 7.3 Instances\n",
    "- Instance of a class is created by calling a class object as a function\n",
    "- Each instance has its own state\n",
    "- We can view instance variable using vars() function"
   ]
  },
  {
   "cell_type": "code",
   "execution_count": 17,
   "metadata": {},
   "outputs": [
    {
     "name": "stdout",
     "output_type": "stream",
     "text": [
      "{'balance': 1000, 'owner': 'Guido'}\n",
      "<class '__main__.Account'> <function Account.deposit at 0x00000249AD532E80>\n"
     ]
    }
   ],
   "source": [
    "a = Account('Guido',1000)\n",
    "print(vars(a))\n",
    "print(type(a),type(a).deposit)"
   ]
  },
  {
   "cell_type": "markdown",
   "metadata": {},
   "source": [
    "# 7.4 Attribute Access\n",
    "-  There are three type of operations can be performed on instances : Getting(getattr()),Setting(setattr()),Deleting(delattr())\n",
    "- If you want to add a new attribute to an object after it's been created ,you're free to do that\n",
    "- getattr() => instance.attribute\n",
    "- setattr() => instance.attribute = some_value\n",
    "- delattr() => del instance.attribute\n",
    "- hasattr() => Check if instance has attribute"
   ]
  },
  {
   "cell_type": "code",
   "execution_count": 26,
   "metadata": {},
   "outputs": [
    {
     "name": "stdout",
     "output_type": "stream",
     "text": [
      "10000\n",
      "10000\n",
      "{'balance': 10000, 'owner': 'Guido', 'to_be_deleted1': None, 'to_be_deleted2': None}\n",
      "{'balance': 10000, 'owner': 'Guido'}\n"
     ]
    },
    {
     "data": {
      "text/plain": [
       "True"
      ]
     },
     "execution_count": 26,
     "metadata": {},
     "output_type": "execute_result"
    }
   ],
   "source": [
    "########################### Setting #################################\n",
    "setattr(a,'balance',10000)\n",
    "a.balance=10000\n",
    "########################### Getting #################################\n",
    "print(getattr(a,'balance'))\n",
    "print(a.balance)\n",
    "########################### Add Attribute #################################\n",
    "a.to_be_deleted1 = None\n",
    "a.to_be_deleted2 = None\n",
    "print(vars(a))\n",
    "########################### Deleting #################################\n",
    "del a.to_be_deleted1\n",
    "delattr(a,'to_be_deleted2')\n",
    "print(vars(a))\n",
    "########################### Check Existance #################################\n",
    "hasattr(a,'balance')"
   ]
  },
  {
   "cell_type": "markdown",
   "metadata": {},
   "source": [
    "# 7.5 Scoping Rules\n",
    "- When implementing a class reference to attributes & method must be fully qualified\n",
    "- Always reference attibutes of instance using self"
   ]
  },
  {
   "cell_type": "markdown",
   "metadata": {},
   "source": [
    "# 7.6 Operator overloading & Protocals\n",
    "- "
   ]
  },
  {
   "cell_type": "markdown",
   "metadata": {},
   "source": [
    "# 7.17 Properties \n",
    "- Python place no runtime restriction on attribute value or types\n",
    "- It can be enforced using property"
   ]
  },
  {
   "cell_type": "code",
   "execution_count": 17,
   "metadata": {},
   "outputs": [],
   "source": [
    "class Person:\n",
    "    def __init__(self, value) -> None:\n",
    "        self.name = value\n",
    "\n",
    "    @property  # Getter\n",
    "    def name(self):\n",
    "        return self._name\n",
    "\n",
    "    @name.setter # Setter\n",
    "    def name(self, value):\n",
    "        if not isinstance(value, str):\n",
    "            raise TypeError(\"Expected String\")\n",
    "        if not len(value) <= 10:\n",
    "            raise ValueError(\"Expected length less than or equal to 10\")\n",
    "        self._name = value\n",
    "# a = Person(14) Will Error Out with Expected String\n",
    "b = Person('14') \n",
    "# c = Person('14asdasdasda') Will Error Out with Expected length less than or equal to 10"
   ]
  }
 ],
 "metadata": {
  "kernelspec": {
   "display_name": "Python 3",
   "language": "python",
   "name": "python3"
  },
  "language_info": {
   "codemirror_mode": {
    "name": "ipython",
    "version": 3
   },
   "file_extension": ".py",
   "mimetype": "text/x-python",
   "name": "python",
   "nbconvert_exporter": "python",
   "pygments_lexer": "ipython3",
   "version": "3.12.4"
  }
 },
 "nbformat": 4,
 "nbformat_minor": 2
}
