{
 "cells": [
  {
   "cell_type": "markdown",
   "metadata": {},
   "source": [
    "# 7.1 Objects\n",
    "- An object is an instance of it's type"
   ]
  },
  {
   "cell_type": "code",
   "execution_count": 9,
   "metadata": {},
   "outputs": [
    {
     "name": "stdout",
     "output_type": "stream",
     "text": [
      "<class 'set'>\n"
     ]
    }
   ],
   "source": [
    "der = {1, 2, 3, 4}\n",
    "print(type(der))"
   ]
  },
  {
   "cell_type": "markdown",
   "metadata": {},
   "source": [
    "# 7.2 Class \n",
    "- New objects are defined using class statement\n",
    "- Functions defined inside a class are known as methods\n",
    "- An instance method is function that operates on an instance of class ,which is passed as first argument self.\n",
    "- __init__ method is used to initialize the state when new instance is created\n",
    "- __repr__ method is used to return a string representation of object. \n"
   ]
  },
  {
   "cell_type": "code",
   "execution_count": 10,
   "metadata": {},
   "outputs": [],
   "source": [
    "class Account:\n",
    "    def __init__(self, owner, balance):\n",
    "        self.balance = balance\n",
    "        self.owner = owner\n",
    "\n",
    "    def __repr__(self):\n",
    "        return f\"Account {self.owner} {self.balance}\"\n",
    "\n",
    "    def deposit(self, amount):\n",
    "        self.balance += amount\n",
    "\n",
    "    def withdraw(self, amount):\n",
    "        self.balance -= amount\n",
    "\n",
    "    def inquiry(self):\n",
    "        return self.balance"
   ]
  },
  {
   "cell_type": "markdown",
   "metadata": {},
   "source": [
    "# 7.3 Instances\n",
    "- Instance of a class is created by calling a class object as a function\n",
    "- Each instance has its own state\n",
    "- We can view instance variable using vars() function"
   ]
  },
  {
   "cell_type": "code",
   "execution_count": 11,
   "metadata": {},
   "outputs": [
    {
     "name": "stdout",
     "output_type": "stream",
     "text": [
      "{'balance': 1000, 'owner': 'Guido'}\n",
      "<class '__main__.Account'> <function Account.deposit at 0x0000028195E41F80>\n"
     ]
    }
   ],
   "source": [
    "a = Account('Guido',1000)\n",
    "print(vars(a))\n",
    "print(type(a),type(a).deposit)"
   ]
  },
  {
   "cell_type": "markdown",
   "metadata": {},
   "source": [
    "# 7.4 Attribute Access\n",
    "-  There are three type of operations can be performed on instances : Getting(getattr()),Setting(setattr()),Deleting(delattr())\n",
    "- If you want to add a new attribute to an object after it's been created ,you're free to do that\n",
    "- getattr() => instance.attribute\n",
    "- setattr() => instance.attribute = some_value\n",
    "- delattr() => del instance.attribute\n",
    "- hasattr() => Check if instance has attribute"
   ]
  },
  {
   "cell_type": "code",
   "execution_count": 12,
   "metadata": {},
   "outputs": [
    {
     "name": "stdout",
     "output_type": "stream",
     "text": [
      "10000\n",
      "10000\n",
      "{'balance': 10000, 'owner': 'Guido', 'to_be_deleted1': None, 'to_be_deleted2': None}\n",
      "{'balance': 10000, 'owner': 'Guido'}\n"
     ]
    },
    {
     "data": {
      "text/plain": [
       "True"
      ]
     },
     "execution_count": 12,
     "metadata": {},
     "output_type": "execute_result"
    }
   ],
   "source": [
    "########################### Setting #################################\n",
    "setattr(a,'balance',10000)\n",
    "a.balance=10000\n",
    "########################### Getting #################################\n",
    "print(getattr(a,'balance'))\n",
    "print(a.balance)\n",
    "########################### Add Attribute #################################\n",
    "a.to_be_deleted1 = None\n",
    "a.to_be_deleted2 = None\n",
    "print(vars(a))\n",
    "########################### Deleting #################################\n",
    "del a.to_be_deleted1\n",
    "delattr(a,'to_be_deleted2')\n",
    "print(vars(a))\n",
    "########################### Check Existance #################################\n",
    "hasattr(a,'balance')"
   ]
  },
  {
   "cell_type": "markdown",
   "metadata": {},
   "source": [
    "# 7.5 Scoping Rules\n",
    "- When implementing a class reference to attributes & method must be fully qualified\n",
    "- Always reference attibutes of instance using self"
   ]
  },
  {
   "cell_type": "markdown",
   "metadata": {},
   "source": [
    "# 7.6 Operator overloading & Protocals\n",
    "- You can use special methods to overload or create operator on class instances"
   ]
  },
  {
   "cell_type": "code",
   "execution_count": 13,
   "metadata": {},
   "outputs": [
    {
     "name": "stdout",
     "output_type": "stream",
     "text": [
      "5\n",
      "1_2_3_4_5\n",
      "[1, 2, 3, 4, 5]\n",
      "2\n"
     ]
    }
   ],
   "source": [
    "class Operator:\n",
    "    def __init__(self) -> None:\n",
    "        self.storage = [1, 2, 3, 4, 5]\n",
    "\n",
    "    def __str__(self):\n",
    "        return \"_\".join(map(str, self.storage))\n",
    "\n",
    "    def __iter__(self):\n",
    "        for i in self.storage:\n",
    "            yield i\n",
    "        return i\n",
    "\n",
    "    def __len__(self):\n",
    "        return len(self.storage)\n",
    "\n",
    "    def __getitem__(self, index):\n",
    "        return self.storage[index]\n",
    "\n",
    "\n",
    "op = Operator()\n",
    "print(len(op))\n",
    "print(op)\n",
    "print(list(i for i in op))\n",
    "print(op[1])"
   ]
  },
  {
   "cell_type": "markdown",
   "metadata": {},
   "source": [
    "# 7.7 Inheritance\n",
    "- Inheritance is a mechanism for creating a new class that inherits or modifies the behaviour of existing class\n",
    "- Orginal class is called base class or super class or parent class\n",
    "- New class is called child class ,sub class,subtype\n",
    "- A derived class may or may not redefine attributes of parent class\n",
    "- Inheritance is specified with comma-separated list of base class names in the class statement\n",
    "- If you need access any specific attributes/method for parent class use super() keyword to access it"
   ]
  },
  {
   "cell_type": "code",
   "execution_count": 37,
   "metadata": {},
   "outputs": [
    {
     "name": "stdout",
     "output_type": "stream",
     "text": [
      "True\n",
      "True\n",
      "True\n",
      "True\n",
      "False\n",
      "Parent\n",
      "Child\n",
      "I am Parent\n",
      "I am Child\n",
      "I am Parent\n",
      "True\n"
     ]
    }
   ],
   "source": [
    "class Parent:\n",
    "    def __init__(self):\n",
    "        self.name = \"Parent\"\n",
    "\n",
    "    def who_are_you(self):\n",
    "        return \"I am Parent\"\n",
    "\n",
    "\n",
    "class Child(Parent):\n",
    "    def __init__(self):\n",
    "        super().__init__()\n",
    "        self.name = \"Child\"\n",
    "\n",
    "    def who_are_you(self):\n",
    "        return \"I am Child\"\n",
    "\n",
    "    def parent_who_are_you(self):\n",
    "        return super().who_are_you()\n",
    "\n",
    "    def are_you_child(self):\n",
    "        return True\n",
    "\n",
    "\n",
    "p = Parent()\n",
    "c = Child()\n",
    "print(isinstance(p, Parent))\n",
    "print(isinstance(c, Parent))\n",
    "print(isinstance(c, Child))\n",
    "print(issubclass(Child, Parent))\n",
    "print(issubclass(Parent, Child))\n",
    "print(p.name)\n",
    "print(c.name)\n",
    "print(p.who_are_you())\n",
    "print(c.who_are_you())\n",
    "print(c.parent_who_are_you())\n",
    "print(c.are_you_child())"
   ]
  },
  {
   "cell_type": "markdown",
   "metadata": {},
   "source": [
    "# 7.8 Avoiding Inheritance via Composition\n",
    " "
   ]
  },
  {
   "cell_type": "code",
   "execution_count": null,
   "metadata": {},
   "outputs": [],
   "source": []
  },
  {
   "cell_type": "markdown",
   "metadata": {},
   "source": [
    "# 7.12 Class variables & Methods\n",
    "- In class definition all the functions are assumed to operate on an instance\n",
    "- However class itself is also a object that can carry state & manipulated as well"
   ]
  },
  {
   "cell_type": "code",
   "execution_count": 46,
   "metadata": {},
   "outputs": [
    {
     "name": "stdout",
     "output_type": "stream",
     "text": [
      "0 class_var\n",
      "0 class_var\n",
      "1 Modified\n",
      "[4, 9, 16]\n"
     ]
    }
   ],
   "source": [
    "class A:\n",
    "    num = 0\n",
    "    name = \"class_var\"\n",
    "\n",
    "    def __init__(self, data) -> None:\n",
    "        self.data = data\n",
    "\n",
    "    def modify_class_var(self):\n",
    "        A.num += 1  # Accessing class var using class\n",
    "        self.name = \"Modified\"  # Accessing class var using self\n",
    "\n",
    "    @classmethod\n",
    "    def from_squared_list(cls, data):\n",
    "        lst = list(map(lambda x: x * x, data))\n",
    "        return cls(lst)\n",
    "\n",
    "\n",
    "a = A([2,3,4])\n",
    "print(A.num, A.name)\n",
    "print(a.num, a.name)\n",
    "a.modify_class_var()\n",
    "print(a.num, a.name)\n",
    "b = A.from_squared_list([2,3,4]) # using class method to initialize class\n",
    "print(b.data)"
   ]
  },
  {
   "cell_type": "markdown",
   "metadata": {},
   "source": [
    "# 7.13 Static Methods\n",
    "- Class is merely used as a namespace for functions declared as static method using @staticmethod\n",
    "- Unlike normal method or class method, a static method does not take an extra argument like self,cls\n",
    "- Static method is just a ordinary function that happens to be defined inside a class\n",
    "- Basically is mimics the behavior of an import module"
   ]
  },
  {
   "cell_type": "code",
   "execution_count": null,
   "metadata": {},
   "outputs": [],
   "source": []
  },
  {
   "cell_type": "markdown",
   "metadata": {},
   "source": [
    "# 7.15 Data Encapsulation & Private Attributes\n",
    "- In Python all attributes & method are public ,accesible without any restriction. This is generally undesirable in OOP\n",
    "- Python relies on naming convention,use a leading underscor to signal if method/attributes is private.\n",
    "- But nothing prevents user from accessing it directly.\n",
    "- These are also available in child classes as well.\n",
    "- To prevent this behaviour in child classes use double underscore before name which resolves to _Classname_name"
   ]
  },
  {
   "cell_type": "code",
   "execution_count": 14,
   "metadata": {},
   "outputs": [
    {
     "name": "stdout",
     "output_type": "stream",
     "text": [
      "{'_private_var': 'Class Secure', '_Private__secure_var': 'Class Private', '_Secure__secure_var': 'Class Secure'}\n"
     ]
    }
   ],
   "source": [
    "class Private:\n",
    "    def __init__(self) -> None:\n",
    "        self._private_var = 'Class Private'\n",
    "        self.__secure_var = 'Class Private'\n",
    "class Secure(Private):\n",
    "    def __init__(self) -> None:\n",
    "        super().__init__()\n",
    "        self._private_var = 'Class Secure'\n",
    "        self.__secure_var = 'Class Secure'                  \n",
    "s = Secure()\n",
    "print(vars(s))"
   ]
  },
  {
   "cell_type": "markdown",
   "metadata": {},
   "source": [
    "# 7.17 Properties \n",
    "- Python place no runtime restriction on attribute value or types\n",
    "- It can be enforced using property\n",
    "- Purpose of property to apply custom rule while getting or setting attributes.\n",
    "- It is not mandate to use both get and set any one also can be implemented"
   ]
  },
  {
   "cell_type": "code",
   "execution_count": 15,
   "metadata": {},
   "outputs": [],
   "source": [
    "class Person:\n",
    "    def __init__(self, value) -> None:\n",
    "        self.name = value\n",
    "\n",
    "    @property  # Getter\n",
    "    def name(self):\n",
    "        return self._name\n",
    "\n",
    "    @name.setter # Setter\n",
    "    def name(self, value):\n",
    "        if not isinstance(value, str):\n",
    "            raise TypeError(\"Expected String\")\n",
    "        if not len(value) <= 10:\n",
    "            raise ValueError(\"Expected length less than or equal to 10\")\n",
    "        self._name = value\n",
    "# a = Person(14) Will Error Out with Expected String\n",
    "b = Person('14') \n",
    "# c = Person('14asdasdasda') Will Error Out with Expected length less than or equal to 10"
   ]
  }
 ],
 "metadata": {
  "kernelspec": {
   "display_name": "Python 3",
   "language": "python",
   "name": "python3"
  },
  "language_info": {
   "codemirror_mode": {
    "name": "ipython",
    "version": 3
   },
   "file_extension": ".py",
   "mimetype": "text/x-python",
   "name": "python",
   "nbconvert_exporter": "python",
   "pygments_lexer": "ipython3",
   "version": "3.12.4"
  }
 },
 "nbformat": 4,
 "nbformat_minor": 2
}
