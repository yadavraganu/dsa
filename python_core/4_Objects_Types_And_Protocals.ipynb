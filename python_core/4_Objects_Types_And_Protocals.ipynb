{
 "cells": [
  {
   "cell_type": "markdown",
   "metadata": {},
   "source": [
    "# 4.1 Essential Concepts\n",
    "- Everything data stored in a program is an object\n",
    "- Each object has an identity , a type known as class , value\n",
    "- variable or lable that refers to this specific location although it is not part of object\n",
    "- When a object of particular type is created it is called instance\n",
    "- Object's value can be modified & object is mutable\n",
    "- Object is characterized with attributes & methods\n",
    "- Objects may also implement various operators                                            "
   ]
  },
  {
   "cell_type": "markdown",
   "metadata": {},
   "source": [
    "# 4.2 Object Identity and Type \n",
    "- id() function gives the address of the object\n",
    "- is operator checks the identities of object if both are same or not\n",
    "- type() operator return the type of object"
   ]
  },
  {
   "cell_type": "code",
   "execution_count": 2,
   "metadata": {},
   "outputs": [
    {
     "name": "stdout",
     "output_type": "stream",
     "text": [
      "True 140716693846456 140716693846456 <class 'int'> True\n"
     ]
    }
   ],
   "source": [
    "a = 1\n",
    "b = a\n",
    "print(a is b, id(a), id(b), type(a), isinstance(a ,int))"
   ]
  },
  {
   "cell_type": "markdown",
   "metadata": {},
   "source": [
    "# 4.3 Reference Counting and Garbage Collection\n",
    "- Python manages object through automatic garbage collection\n",
    "- An object's reference count is increased whenever it's assigned to a new name or placed in a container like list,tuple, or dict\n",
    "- del statements decreases the ref count of object\n",
    "- When ref count reaches 0 then it is garbage collected\n",
    "- If there is circular dependencies between objects it is not cleaned by garbage collector\n",
    "- A cycle-detection algorithm runs periodically for cleanup\n",
    "- The gc.collect() can be used to invoke the cyclic garbage collector\n",
    "- Use sys.getrefcount(var) to get the ref count"
   ]
  },
  {
   "cell_type": "code",
   "execution_count": 9,
   "metadata": {},
   "outputs": [
    {
     "name": "stdout",
     "output_type": "stream",
     "text": [
      "4294967295\n"
     ]
    }
   ],
   "source": [
    "import sys\n",
    "H = '1111111111111111111'\n",
    "print(sys.getrefcount(H))"
   ]
  },
  {
   "cell_type": "markdown",
   "metadata": {},
   "source": [
    "# 4.4 References and Copies\n",
    "- Shallow copy references the child objects from previous object.\n",
    "- To avoid use deep copy"
   ]
  },
  {
   "cell_type": "code",
   "execution_count": 18,
   "metadata": {},
   "outputs": [
    {
     "name": "stdout",
     "output_type": "stream",
     "text": [
      "################### Shallow Copy #######################\n",
      "[1, [1, 2], 3] [1, [1, 2], 3, 100]\n",
      "[1, [100, 2], 3] [1, [100, 2], 3, 100]\n",
      "################### Deep Copy #######################\n",
      "[1, [1, 2], 3] [1, [1, 2], 3, 100]\n",
      "[1, [1, 2], 3] [1, [100, 2], 3, 100]\n"
     ]
    }
   ],
   "source": [
    "print('################### Shallow Copy #######################')\n",
    "a = [1,[1,2],3]\n",
    "b = list(a)  # shallow copy\n",
    "b.append(100) \n",
    "print(a,b) # b got changed but not a because new element got added\n",
    "b[1][0] = 100\n",
    "print(a,b) # a & b got changed becuase new changes are in existing objects\n",
    "print('################### Deep Copy #######################')\n",
    "import copy\n",
    "a = [1,[1,2],3]\n",
    "b = copy.deepcopy(a)  # deep copy\n",
    "b.append(100) \n",
    "print(a,b) \n",
    "b[1][0] = 100\n",
    "print(a,b) "
   ]
  },
  {
   "cell_type": "markdown",
   "metadata": {},
   "source": [
    "# 4.5 Object Repressentation and Printing\n",
    "- print() is used for nice human-readable format\n",
    "- repr() is used to print in source code format"
   ]
  },
  {
   "cell_type": "code",
   "execution_count": 29,
   "metadata": {},
   "outputs": [
    {
     "name": "stdout",
     "output_type": "stream",
     "text": [
      "2024-08-01\n",
      "datetime.date(2024, 8, 1)\n",
      "datetime.date(2024, 8, 1)\n"
     ]
    }
   ],
   "source": [
    "from datetime import date\n",
    "a = date.today()\n",
    "print(a) \n",
    "print(repr(a))\n",
    "print(f'{a!r}')"
   ]
  },
  {
   "cell_type": "markdown",
   "metadata": {},
   "source": [
    "# 4.6 First-Class Objects\n",
    "- All objects in python are said to be first-class\n",
    "- All objects that can be assigned to a name/var also be treated as data\n",
    "- As data objects can be stored as variable passed as arguments, returned from functions, compared against other objects and more."
   ]
  },
  {
   "cell_type": "code",
   "execution_count": 31,
   "metadata": {},
   "outputs": [
    {
     "name": "stdout",
     "output_type": "stream",
     "text": [
      "Returning from function 1\n"
     ]
    }
   ],
   "source": [
    "def test_func(x):\n",
    "    return f\"Returning from function {x}\"\n",
    "func_dict = {}\n",
    "func_dict['1'] = test_func\n",
    "print(func_dict['1'](1))"
   ]
  },
  {
   "cell_type": "markdown",
   "metadata": {},
   "source": [
    "# 4.7 Using None for Optional or Missing Data\n",
    "- None is returned by functions that don't explicitly return a value\n",
    "- None is alos frequently used as the default value of optional arguments\n",
    "- None can be compared using == .But it is not advisable its better to use is"
   ]
  },
  {
   "cell_type": "markdown",
   "metadata": {},
   "source": [
    "# 4.8 Object Protocol and Data Abstraction\n",
    "- Unlike a compiler for a static language. Python does not verify correct program behavior in advance\n",
    "- It is checked at execution time thorugh special or magic methods.\n",
    "- The special methods like `__mul__` for * are called protocols  "
   ]
  },
  {
   "cell_type": "markdown",
   "metadata": {},
   "source": [
    "# 4.9 Object Protocol\n",
    "- `__new__(cls [,*args [,**kwargs]])` A static method called to create a new instance.\n",
    "- `__init__(self [,*args [,**kwargs]])` Called to initialize a new instance after it’s been created.\n",
    "- `__del__(self)` Called when an instance is being destroyed.\n",
    "- `__repr__(self)` Create a string representation."
   ]
  },
  {
   "cell_type": "markdown",
   "metadata": {},
   "source": [
    "# 4.10 Number Protocol\n",
    "- `__add__(self, other)` self + other\n",
    "- `__sub__(self, other)` self - other\n",
    "- `__mul__(self, other)` self * other\n",
    "- `__truediv__(self, other)` self / other\n",
    "- `__floordiv__(self, other)` self // other\n",
    "- `__mod__(self, other)` self % other\n",
    "- `__matmul__(self, other)` self @ other\n",
    "- `__divmod__(self, other)` divmod(self, other)\n",
    "- `__pow__(self, other [, modulo])` self ** other, pow(self, other, modulo)\n",
    "- `__lshift__(self, other)` self << other\n",
    "- `__rshift__(self, other)` self >> other\n",
    "- `__and__(self, other)` self & other\n",
    "- `__or__(self, other)` self | other\n",
    "- `__xor__(self, other)` self ^ other\n",
    "- `__radd__(self, other)` other + self\n",
    "- `__rsub__(self, other)` other - self\n",
    "- `__rmul__(self, other)` other * self\n",
    "- `__rtruediv__(self, other)` other / self\n",
    "- `__rfloordiv__(self, other)` other // self\n",
    "- `__rmod__(self, other)` other % self\n",
    "- `__rmatmul__(self, other)` other @ self\n",
    "- `__rdivmod__(self, other)` divmod(other, self)\n",
    "- `__rpow__(self, other)` other ** self\n",
    "- `__rlshift__(self, other)` other << self\n",
    "- `__rrshift__(self, other)` other >> self\n",
    "- `__rand__(self, other)` other & self\n",
    "- `__ror__(self, other)` other | self\n",
    "- `__rxor__(self, other)` other ^ self\n",
    "- `__iadd__(self, other)` self += other\n",
    "- `__isub__(self, other)` self -= other\n",
    "- `__imul__(self, other)` self *= other\n",
    "- `__itruediv__(self, other)` self /= other\n",
    "- `__ifloordiv__(self, other)` self //= other\n",
    "- `__imod__(self, other)` self %= other\n",
    "- `__imatmul__(self, other)` self @= other\n",
    "- `__ipow__(self, other)` self **= other\n",
    "- `__iand__(self, other)` self &= other\n",
    "- `__ior__(self, other)` self |= other\n",
    "- `__ixor__(self, other)` self ^= other\n",
    "- `__ilshift__(self, other)` self <<= other\n",
    "- `__irshift__(self, other)` self >>= other\n",
    "- `__neg__(self)` –self\n",
    "- `__pos__(self)` +self\n",
    "- `__invert__(self)` ~self\n",
    "- `__abs__(self)` abs(self)\n",
    "- `__round__(self, n)` round(self, n)\n",
    "- `__floor__(self)` math.floor(self)\n",
    "- `__ceil__(self)` math.ceil(self)\n",
    "- `__trunc__(self)` math.trunc(self)"
   ]
  },
  {
   "cell_type": "markdown",
   "metadata": {},
   "source": [
    "# 4.15 Attribute Protocol\n",
    "- `__getattribute__(self, name)` Returns the attribute self.name\n",
    "- `__getattr__(self, name)` Returns the attribute self.name if it’s not found through `__getattribute__()`\n",
    "- `__setattr__(self, name, value)` Sets the attribute self.name = value\n",
    "- `__delattr__(self, name)` Deletes the attribute del self.name"
   ]
  }
 ],
 "metadata": {
  "kernelspec": {
   "display_name": "Python 3",
   "language": "python",
   "name": "python3"
  },
  "language_info": {
   "codemirror_mode": {
    "name": "ipython",
    "version": 3
   },
   "file_extension": ".py",
   "mimetype": "text/x-python",
   "name": "python",
   "nbconvert_exporter": "python",
   "pygments_lexer": "ipython3",
   "version": "3.12.4"
  }
 },
 "nbformat": 4,
 "nbformat_minor": 2
}
