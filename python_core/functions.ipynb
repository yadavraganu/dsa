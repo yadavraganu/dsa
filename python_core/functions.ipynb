{
 "cells": [
  {
   "cell_type": "markdown",
   "metadata": {},
   "source": [
    "# 6.1 Function Definitions\n",
    "- Arguments are fully evaluated left-to-right before execution of function body"
   ]
  },
  {
   "cell_type": "code",
   "execution_count": 14,
   "metadata": {},
   "outputs": [
    {
     "data": {
      "text/plain": [
       "6"
      ]
     },
     "execution_count": 14,
     "metadata": {},
     "output_type": "execute_result"
    }
   ],
   "source": [
    "def add(x, y):\n",
    "    return x + y\n",
    "\n",
    "\n",
    "add(1 + 1, 2 + 2)"
   ]
  },
  {
   "cell_type": "markdown",
   "metadata": {},
   "source": [
    "# 6.2 Default Arguments\n",
    "- When a function defines a parameter with default value, that parameter and other that follow are optional while calling\n",
    "- It is not possible to specify a parameter with no default value  after any parameter defined with default value\n",
    "- Default parameters are evalauted once when function is first defined not each time function is called\n",
    "- Best practice is to use immutable objects as default like number,string,bool,None etc"
   ]
  },
  {
   "cell_type": "code",
   "execution_count": 15,
   "metadata": {},
   "outputs": [
    {
     "data": {
      "text/plain": [
       "-1"
      ]
     },
     "execution_count": 15,
     "metadata": {},
     "output_type": "execute_result"
    }
   ],
   "source": [
    "def hilow(hi=1, low=2):\n",
    "    return hi - low\n",
    "\n",
    "\n",
    "hilow(1)"
   ]
  },
  {
   "cell_type": "markdown",
   "metadata": {},
   "source": [
    "# 6.3 Variadic Args\n",
    "- *name Can be used to get variable number of args \n",
    "- These are stored as tuple in name variable"
   ]
  },
  {
   "cell_type": "code",
   "execution_count": 16,
   "metadata": {},
   "outputs": [
    {
     "data": {
      "text/plain": [
       "(tuple, (12, 243, 34, 354))"
      ]
     },
     "execution_count": 16,
     "metadata": {},
     "output_type": "execute_result"
    }
   ],
   "source": [
    "def var_args(*var_args):\n",
    "    return type(var_args), var_args\n",
    "\n",
    "\n",
    "var_args(12, 243, 34, 354)"
   ]
  },
  {
   "cell_type": "markdown",
   "metadata": {},
   "source": [
    "# 6.4 Keyword Args\n",
    "- With keywords arguments the order of args does not matter while calling as long as each args get a value\n",
    "- If any of the required args is omitted or keyword does not match with function def parameter than error is thrown\n",
    "- Positional args can be used with keyword args provided all positional args comes first in function def\n",
    "- Use of keyword args can be forced by defined * after a parameter in function def"
   ]
  },
  {
   "cell_type": "code",
   "execution_count": 17,
   "metadata": {},
   "outputs": [
    {
     "name": "stdout",
     "output_type": "stream",
     "text": [
      "HelloDBAC\n",
      "HelloABDC\n",
      "HelloABC\n"
     ]
    }
   ],
   "source": [
    "def func(w, x, y, z):\n",
    "    print(f\"Hello{w+x+y+z}\")\n",
    "\n",
    "\n",
    "def func_mandate(w, x, *, z):\n",
    "    print(f\"Hello{w+x+z}\")\n",
    "\n",
    "\n",
    "func(y=\"A\", x=\"B\", z=\"C\", w=\"D\")\n",
    "func(\"A\", \"B\", z=\"C\", y=\"D\")\n",
    "# func(w='A',x='B','C','D')   Not Possible\n",
    "# func_mandate('A','B', z='C') Not Possible\n",
    "func_mandate(\"A\", \"B\", z=\"C\")"
   ]
  },
  {
   "cell_type": "markdown",
   "metadata": {},
   "source": [
    "# 6.5 Variadic Keyword Args\n",
    "- If the last argument of a function is prefixed with ** then all additional keywrods args are passed a dict to function"
   ]
  },
  {
   "cell_type": "code",
   "execution_count": 18,
   "metadata": {},
   "outputs": [
    {
     "name": "stdout",
     "output_type": "stream",
     "text": [
      "{'Hi': 'Hello', 'Tata': 'Bye'}\n"
     ]
    }
   ],
   "source": [
    "def data(data, **kargs):\n",
    "    print(kargs)\n",
    "\n",
    "\n",
    "data(1, Hi=\"Hello\", Tata=\"Bye\")"
   ]
  },
  {
   "cell_type": "markdown",
   "metadata": {},
   "source": [
    "# 6.6 Function Accepting All Input"
   ]
  },
  {
   "cell_type": "code",
   "execution_count": 19,
   "metadata": {},
   "outputs": [
    {
     "name": "stdout",
     "output_type": "stream",
     "text": [
      "(1, 2) {'Hi': 'Hello', 'One': 'Two'}\n"
     ]
    }
   ],
   "source": [
    "def all_args(*args, **kwargs):\n",
    "    print(args, kwargs)\n",
    "\n",
    "\n",
    "all_args(1, 2, Hi=\"Hello\", One=\"Two\")"
   ]
  },
  {
   "cell_type": "markdown",
   "metadata": {},
   "source": [
    "# 6.7 Positional-Only Args\n",
    "- This can be forced by using (/). All arguments coming before / should be positional"
   ]
  },
  {
   "cell_type": "code",
   "execution_count": 20,
   "metadata": {},
   "outputs": [
    {
     "name": "stdout",
     "output_type": "stream",
     "text": [
      "1 2 Hello\n",
      "1 2 Hello\n"
     ]
    }
   ],
   "source": [
    "def force_pos(a, b, /, c):\n",
    "    print(a, b, c)\n",
    "\n",
    "\n",
    "force_pos(1, 2, c=\"Hello\")\n",
    "force_pos(1, 2, \"Hello\")\n",
    "# force_pos(1,b=2,c='Hello') Not allowed gives error"
   ]
  },
  {
   "cell_type": "markdown",
   "metadata": {},
   "source": [
    "# 6.8 Names,Doc String,Type Hint\n",
    "- Use lower case word separated by _ for function names (Best Practice)\n",
    "- If any internal function use _name to give the name (Best Practice)\n",
    "- __ name __ get function name\n",
    "- __ doc __ doc string\n",
    "- __ annotations __ get annotation"
   ]
  },
  {
   "cell_type": "code",
   "execution_count": 21,
   "metadata": {},
   "outputs": [
    {
     "name": "stdout",
     "output_type": "stream",
     "text": [
      "name\n",
      "\n",
      "    Test Function\n",
      "    \n",
      "{'a': <class 'int'>, 'return': <class 'bool'>}\n"
     ]
    }
   ],
   "source": [
    "def name(a: int) -> bool:\n",
    "    \"\"\"\n",
    "    Test Function\n",
    "    \"\"\"\n",
    "    return True\n",
    "\n",
    "\n",
    "print(name.__name__)\n",
    "print(name.__doc__)\n",
    "print(name.__annotations__)"
   ]
  },
  {
   "cell_type": "markdown",
   "metadata": {},
   "source": [
    "# 6.9 Function Parameter Passing\n",
    "- When a function is called, the function parameters are local names that get bound to the passed input objects\n",
    "- Python passes the supplied object to function as is without extra copy\n",
    "- If changes are made without reassigning then that can change original object\n",
    "- Dictionary can be passed as args\n",
    "- Tuple can be passed as args"
   ]
  },
  {
   "cell_type": "code",
   "execution_count": 22,
   "metadata": {},
   "outputs": [
    {
     "name": "stdout",
     "output_type": "stream",
     "text": [
      "1 2 3\n",
      "1 2 3\n"
     ]
    }
   ],
   "source": [
    "def test(x, y, z):\n",
    "    print(x, y, z)\n",
    "\n",
    "\n",
    "a = (1, 2, 3)\n",
    "b = {\"x\": 1, \"y\": 2, \"z\": 3}\n",
    "test(*a)\n",
    "test(**b)"
   ]
  },
  {
   "cell_type": "markdown",
   "metadata": {},
   "source": [
    "# 6.10 Return Value\n",
    "- If there is no return in function None is returned\n",
    "- If need to return multiple values better to placae it in tuple"
   ]
  },
  {
   "cell_type": "code",
   "execution_count": 23,
   "metadata": {},
   "outputs": [
    {
     "name": "stdout",
     "output_type": "stream",
     "text": [
      "1 2\n"
     ]
    }
   ],
   "source": [
    "def return_func():\n",
    "    return (\"1\", \"2\")\n",
    "\n",
    "\n",
    "a, b = return_func()\n",
    "print(a, b)"
   ]
  },
  {
   "cell_type": "markdown",
   "metadata": {},
   "source": [
    "# 6.11 Error Handling\n",
    "- Error can handled by raising a exception in function before returning\n",
    "- Common practice is to return None,False,-1 in case of errors"
   ]
  },
  {
   "cell_type": "code",
   "execution_count": null,
   "metadata": {},
   "outputs": [],
   "source": []
  },
  {
   "cell_type": "markdown",
   "metadata": {},
   "source": [
    "# 6.12 Scoping Rules"
   ]
  },
  {
   "cell_type": "code",
   "execution_count": null,
   "metadata": {},
   "outputs": [],
   "source": []
  },
  {
   "cell_type": "markdown",
   "metadata": {},
   "source": [
    "# 6.13 Recursion\n",
    "- There is limit on depth of recursive function calls\n",
    "- sys.getrecursionlimit() returns are max limit allowed\n",
    "- sys.setrecursionlimit() can be used to change the value\n",
    "- It is still limited by stack size enforced by host"
   ]
  },
  {
   "cell_type": "code",
   "execution_count": 55,
   "metadata": {},
   "outputs": [
    {
     "data": {
      "text/plain": [
       "1"
      ]
     },
     "execution_count": 55,
     "metadata": {},
     "output_type": "execute_result"
    }
   ],
   "source": [
    "def fib(n):\n",
    "    if n <= 1:\n",
    "        return n\n",
    "    return fib(n - 1) + fib(n - 2)\n",
    "fib(2)"
   ]
  },
  {
   "cell_type": "markdown",
   "metadata": {},
   "source": [
    "# 6.14 lambda\n",
    "__Syntax :__ lambda args:expression\n",
    "- args is a comma separated list of arguments\n",
    "- Multiple line statement or non expresssion statement such as try , except not allowed\n",
    "- Caution is required while using free variable in lambda expression"
   ]
  },
  {
   "cell_type": "code",
   "execution_count": 24,
   "metadata": {},
   "outputs": [
    {
     "name": "stdout",
     "output_type": "stream",
     "text": [
      "30\n",
      "30\n"
     ]
    }
   ],
   "source": [
    "f = lambda x: x * x\n",
    "f(2)\n",
    "\n",
    "y = 2\n",
    "g = lambda x: x * y\n",
    "y = 10\n",
    "l = lambda x: x * y\n",
    "print(\n",
    "    g(3)\n",
    ")  # This is not 20 because lambda function definition gets evaluated at execution\n",
    "print(l(3))"
   ]
  },
  {
   "cell_type": "markdown",
   "metadata": {},
   "source": [
    "# 6.15 Higher-Order Function\n",
    "- Functions can be passed as argument to other functions & also can be returned from function\n",
    "- When a function is passed as data it implicitly carries info related to the env in which function was defined"
   ]
  },
  {
   "cell_type": "code",
   "execution_count": 25,
   "metadata": {},
   "outputs": [
    {
     "name": "stdout",
     "output_type": "stream",
     "text": [
      "Hello World\n",
      "Hello Ram\n",
      "Hello Nancy\n",
      "None\n"
     ]
    }
   ],
   "source": [
    "import time\n",
    "def after(seconds ,func):\n",
    "    time.sleep(seconds)\n",
    "    func()\n",
    "\n",
    "def greeting():\n",
    "    print('Hello World')\n",
    "\n",
    "after(1,greeting)\n",
    "############################################################\n",
    "def main():\n",
    "    name = 'Ram'\n",
    "    def greeting():\n",
    "        print(f'Hello {name}') \n",
    "    after(2,greeting) \n",
    "main() \n",
    "############################################################\n",
    "def make_greeting(name):\n",
    "    def greeting():\n",
    "        print(f'Hello {name}')\n",
    "    return greeting\n",
    "test = make_greeting('Nancy')\n",
    "print(test())        "
   ]
  },
  {
   "cell_type": "markdown",
   "metadata": {},
   "source": [
    "# 6.19 Map ,Filter & Reduce\n",
    "- map(function,iterable) used to apply function to each element of iterable\n",
    "- filter(function,iterable) used to filter each element of iterable\n",
    "- reduce(function,iterable,intial_value)"
   ]
  },
  {
   "cell_type": "code",
   "execution_count": 26,
   "metadata": {},
   "outputs": [
    {
     "name": "stdout",
     "output_type": "stream",
     "text": [
      "[1, 8, 27, 64]\n",
      "[2, 4]\n",
      "1012340\n"
     ]
    }
   ],
   "source": [
    "from functools import reduce\n",
    "\n",
    "iterable = [1, 2, 3, 4]\n",
    "print(list(map(lambda x: x * x * x, iterable)))\n",
    "print(list(filter(lambda x: x % 2 == 0, iterable)))\n",
    "print(reduce(lambda x, y: (x + y) * 10, iterable, 100))"
   ]
  },
  {
   "cell_type": "markdown",
   "metadata": {},
   "source": [
    "# 6.20 Function Introspection, Attributes, Signature\n",
    "- `f.__qualname__` - Fully qualified name if nested\n",
    "- `f.__module__` - Module name in which function is defined \n",
    "- `f.__globals__` - Dictionary that is the global namespace \n",
    "- `f.__closure__` - Closure variables if any \n",
    "- `f.__code__` - Compiled byte code "
   ]
  },
  {
   "cell_type": "code",
   "execution_count": 48,
   "metadata": {},
   "outputs": [
    {
     "name": "stdout",
     "output_type": "stream",
     "text": [
      "do_add\n",
      "add.<locals>.do_add\n",
      "__main__\n",
      "{'__name__': '__main__', '__doc__': 'Automatically created module for IPython interactive environment', '__package__': None, '__loader__': None, '__spec__': None, '__builtin__': <module 'builtins' (built-in)>, '__builtins__': <module 'builtins' (built-in)>, '_ih': ['', 'def add(x, y):\\n    return x + y\\n\\n\\nadd(1 + 1, 2 + 2)', 'def hilow(hi=1, low=2):\\n    return hi - low\\n\\n\\nhilow(1)', 'def var_args(*var_args):\\n    return type(var_args), var_args\\n\\n\\nvar_args(12, 243, 34, 354)', 'def func(w, x, y, z):\\n    print(f\"Hello{w+x+y+z}\")\\n\\n\\ndef func_mandate(w, x, *, z):\\n    print(f\"Hello{w+x+z}\")\\n\\n\\nfunc(y=\"A\", x=\"B\", z=\"C\", w=\"D\")\\nfunc(\"A\", \"B\", z=\"C\", y=\"D\")\\n# func(w=\\'A\\',x=\\'B\\',\\'C\\',\\'D\\')   Not Possible\\n# func_mandate(\\'A\\',\\'B\\', z=\\'C\\') Not Possible\\nfunc_mandate(\"A\", \"B\", z=\"C\")', 'def data(data, **kargs):\\n    print(kargs)\\n\\n\\ndata(1, Hi=\"Hello\", Tata=\"Bye\")', 'def all_args(*args, **kwargs):\\n    print(args, kwargs)\\n\\n\\nall_args(1, 2, Hi=\"Hello\", One=\"Two\")', 'def force_pos(a, b, /, c):\\n    print(a, b, c)\\n\\n\\nforce_pos(1, 2, c=\"Hello\")\\nforce_pos(1, 2, \"Hello\")\\n# force_pos(1,b=2,c=\\'Hello\\') Not allowed gives error', 'def name(a: int) -> bool:\\n    \"\"\"\\n    Test Function\\n    \"\"\"\\n    return True\\n\\n\\nprint(name.__name__)\\nprint(name.__doc__)\\nprint(name.__annotations__)', 'def test(x, y, z):\\n    print(x, y, z)\\n\\n\\na = (1, 2, 3)\\nb = {\"x\": 1, \"y\": 2, \"z\": 3}\\ntest(*a)\\ntest(**b)', 'def return_func():\\n    return (\"1\", \"2\")\\n\\n\\na, b = return_func()\\nprint(a, b)', 'f = lambda x: x * x\\nf(2)\\n\\ny = 2\\ng = lambda x: x * y\\ny = 10\\nl = lambda x: x * y\\nprint(\\n    g(3)\\n)  # This is not 20 because lambda function definition gets evaluated at execution\\nprint(l(3))', \"import time\\ndef after(seconds ,func):\\n    time.sleep(seconds)\\n    func()\\n\\ndef greeting():\\n    print('Hello World')\\n\\nafter(1,greeting)\\n############################################################\\ndef main():\\n    name = 'Ram'\\n    def greeting():\\n        print(f'Hello {name}') \\n    after(2,greeting) \\nmain() \\n############################################################\\ndef make_greeting(name):\\n    def greeting():\\n        print(f'Hello {name}')\\n    return greeting\\ntest = make_greeting('Nancy')\\nprint(test())        \", 'from functools import reduce\\n\\niterable = [1, 2, 3, 4]\\nprint(list(map(lambda x: x * x * x, iterable)))\\nprint(list(filter(lambda x: x % 2 == 0, iterable)))\\nprint(reduce(lambda x, y: (x + y) * 10, iterable, 100))', 'def add(x, y):\\n    return x + y\\n\\n\\nadd(1 + 1, 2 + 2)', 'def hilow(hi=1, low=2):\\n    return hi - low\\n\\n\\nhilow(1)', 'def var_args(*var_args):\\n    return type(var_args), var_args\\n\\n\\nvar_args(12, 243, 34, 354)', 'def func(w, x, y, z):\\n    print(f\"Hello{w+x+y+z}\")\\n\\n\\ndef func_mandate(w, x, *, z):\\n    print(f\"Hello{w+x+z}\")\\n\\n\\nfunc(y=\"A\", x=\"B\", z=\"C\", w=\"D\")\\nfunc(\"A\", \"B\", z=\"C\", y=\"D\")\\n# func(w=\\'A\\',x=\\'B\\',\\'C\\',\\'D\\')   Not Possible\\n# func_mandate(\\'A\\',\\'B\\', z=\\'C\\') Not Possible\\nfunc_mandate(\"A\", \"B\", z=\"C\")', 'def data(data, **kargs):\\n    print(kargs)\\n\\n\\ndata(1, Hi=\"Hello\", Tata=\"Bye\")', 'def all_args(*args, **kwargs):\\n    print(args, kwargs)\\n\\n\\nall_args(1, 2, Hi=\"Hello\", One=\"Two\")', 'def force_pos(a, b, /, c):\\n    print(a, b, c)\\n\\n\\nforce_pos(1, 2, c=\"Hello\")\\nforce_pos(1, 2, \"Hello\")\\n# force_pos(1,b=2,c=\\'Hello\\') Not allowed gives error', 'def name(a: int) -> bool:\\n    \"\"\"\\n    Test Function\\n    \"\"\"\\n    return True\\n\\n\\nprint(name.__name__)\\nprint(name.__doc__)\\nprint(name.__annotations__)', 'def test(x, y, z):\\n    print(x, y, z)\\n\\n\\na = (1, 2, 3)\\nb = {\"x\": 1, \"y\": 2, \"z\": 3}\\ntest(*a)\\ntest(**b)', 'def return_func():\\n    return (\"1\", \"2\")\\n\\n\\na, b = return_func()\\nprint(a, b)', 'f = lambda x: x * x\\nf(2)\\n\\ny = 2\\ng = lambda x: x * y\\ny = 10\\nl = lambda x: x * y\\nprint(\\n    g(3)\\n)  # This is not 20 because lambda function definition gets evaluated at execution\\nprint(l(3))', \"import time\\ndef after(seconds ,func):\\n    time.sleep(seconds)\\n    func()\\n\\ndef greeting():\\n    print('Hello World')\\n\\nafter(1,greeting)\\n############################################################\\ndef main():\\n    name = 'Ram'\\n    def greeting():\\n        print(f'Hello {name}') \\n    after(2,greeting) \\nmain() \\n############################################################\\ndef make_greeting(name):\\n    def greeting():\\n        print(f'Hello {name}')\\n    return greeting\\ntest = make_greeting('Nancy')\\nprint(test())        \", 'from functools import reduce\\n\\niterable = [1, 2, 3, 4]\\nprint(list(map(lambda x: x * x * x, iterable)))\\nprint(list(filter(lambda x: x % 2 == 0, iterable)))\\nprint(reduce(lambda x, y: (x + y) * 10, iterable, 100))', 'def add(x,y):\\n    def do_add():\\n        return x+y\\n    return do_add()\\na = do_add()\\nprint(a.__qualname__)', 'def add(x,y):\\n    def do_add():\\n        return x+y\\n    return do_add()\\na = do_add()\\nprint(a.__name__)', 'def add(x,y):\\n    def do_add():\\n        return x+y\\n    return do_add()\\na = add()\\nprint(a.__name__)', 'def add(x,y):\\n    def do_add():\\n        return x+y\\n    return do_add()\\na = add(5,6)\\nprint(a.__name__)', 'def add(x,y):\\n    def do_add():\\n        return x+y\\n    return do_add()\\na = add(5,6)\\na.__name__)', 'def add(x,y):\\n    def do_add():\\n        return x+y\\n    return do_add()\\na = add(5,6)\\na.__name__', 'def add(x,y):\\n    def do_add():\\n        return x+y\\n    return do_add()\\nadd.__name__', 'def add(x,y):\\n    def do_add():\\n        return x+y\\n    return do_add()\\nadd.__name__\\nadd.__qualname__', 'def add(x,y):\\n    def do_add():\\n        return x+y\\n    return do_add()\\nprint(add.__name__)\\nprint(add.__qualname__)', 'def add(x,y):\\n    def do_add():\\n        return x+y\\n    return do_add()\\nprint(add.__name__)\\nprint(add.__qualname__)\\nprint(add.__module__)', 'def add(x,y):\\n    def do_add():\\n        return x+y\\n    return do_add()\\nprint(add.__name__)\\nprint(add.__qualname__)\\nprint(add.__module__)\\nprint(add.__globals__)', 'def add(x,y):\\n    def do_add():\\n        return x+y\\n    return do_add()\\nprint(add.__name__)\\nprint(add.__qualname__)\\nprint(add.__module__)\\nprint(add.__globals__)\\nprint(add.__code__)', 'def add(x,y):\\n    def do_add():\\n        return x+y\\n    return do_add()\\nprint(add.__name__)\\nprint(add.__qualname__)\\nprint(add.__module__)\\nprint(add.__globals__)\\nprint(add.__code__)\\nprint(add.__closure__)', 'def add(x,y):\\n    def do_add():\\n        return x+y\\n    return do_add()\\nprint(add.__name__)\\nprint(add.__qualname__)\\nprint(add.__module__)\\nprint(add.__globals__)\\nprint(add.__code__)\\nprint(add(3,4).__closure__)', 'def add(x,y):\\n    def do_add():\\n        return x+y\\n    return do_add()\\nprint(add.__name__)\\nprint(add.__qualname__)\\nprint(add.__module__)\\nprint(add.__globals__)\\nprint(add.__code__)\\nprint(a.__closure__)', 'def add(x,y):\\n    def do_add():\\n        return x+y\\n    return do_add()\\nprint(add.__name__)\\nprint(add.__qualname__)\\nprint(add.__module__)\\nprint(add.__globals__)\\nprint(add.__code__)\\nprint(add.__closure__)', 'def add(x,y):\\n    def do_add():\\n        return x+y\\n    return do_add\\na = add(5,6)\\nprint(a.__name__)\\nprint(a.__qualname__)\\nprint(a.__module__)\\nprint(a.__globals__)\\nprint(a.__code__)\\nprint(a.__closure__)', 'def add(x,y):\\n    def do_add():\\n        return x+y\\n    return do_add\\na = add(5,6)\\nprint(a.__name__)\\nprint(a.__qualname__)\\nprint(a.__module__)\\nprint(a.__globals__)\\nprint(a.__code__)\\nprint(a.__closure__[0],a.__closure__[1])', 'def add(x,y):\\n    def do_add():\\n        return x+y\\n    return do_add\\na = add(5,6)\\nprint(a.__name__)\\nprint(a.__qualname__)\\nprint(a.__module__)\\nprint(a.__globals__)\\nprint(a.__code__)\\nprint(a.__closure__[0].cell_contents,a.__closure__[1].cell_contents)', 'def add(x,y):\\n    def do_add():\\n        return x+y\\n    return do_add\\na = add(5,6)\\nprint(a.__name__)\\nprint(a.__qualname__)\\nprint(a.__module__)\\nprint(a.__globals__)\\nprint(a.__code__)\\nprint(a.__closure__[0].cell_contents,a.__closure__[1].cell_contents)\\nimport inspect\\ninspect.signature(add)', 'def add(x:int,y:int):\\n    def do_add():\\n        return x+y\\n    return do_add\\na = add(5,6)\\nprint(a.__name__)\\nprint(a.__qualname__)\\nprint(a.__module__)\\nprint(a.__globals__)\\nprint(a.__code__)\\nprint(a.__closure__[0].cell_contents,a.__closure__[1].cell_contents)\\nimport inspect\\nprint(inspect.signature(add))', 'def add(x: int, y: int):\\n    def do_add():\\n        return x + y\\n\\n    return do_add\\n\\n\\na = add(5, 6)\\nprint(a.__name__)\\nprint(a.__qualname__)\\nprint(a.__module__)\\nprint(a.__globals__)\\nprint(a.__code__)\\nprint(a.__closure__[0].cell_contents, a.__closure__[1].cell_contents)\\nimport inspect\\n\\nprint(inspect.signature(add))'], '_oh': {1: 6, 2: -1, 3: (<class 'tuple'>, (12, 243, 34, 354)), 14: 6, 15: -1, 16: (<class 'tuple'>, (12, 243, 34, 354)), 33: 'add', 34: 'add', 46: <Signature (x, y)>}, '_dh': [WindowsPath('c:/Users/yadav/VsCode/dsa/python_core')], 'In': ['', 'def add(x, y):\\n    return x + y\\n\\n\\nadd(1 + 1, 2 + 2)', 'def hilow(hi=1, low=2):\\n    return hi - low\\n\\n\\nhilow(1)', 'def var_args(*var_args):\\n    return type(var_args), var_args\\n\\n\\nvar_args(12, 243, 34, 354)', 'def func(w, x, y, z):\\n    print(f\"Hello{w+x+y+z}\")\\n\\n\\ndef func_mandate(w, x, *, z):\\n    print(f\"Hello{w+x+z}\")\\n\\n\\nfunc(y=\"A\", x=\"B\", z=\"C\", w=\"D\")\\nfunc(\"A\", \"B\", z=\"C\", y=\"D\")\\n# func(w=\\'A\\',x=\\'B\\',\\'C\\',\\'D\\')   Not Possible\\n# func_mandate(\\'A\\',\\'B\\', z=\\'C\\') Not Possible\\nfunc_mandate(\"A\", \"B\", z=\"C\")', 'def data(data, **kargs):\\n    print(kargs)\\n\\n\\ndata(1, Hi=\"Hello\", Tata=\"Bye\")', 'def all_args(*args, **kwargs):\\n    print(args, kwargs)\\n\\n\\nall_args(1, 2, Hi=\"Hello\", One=\"Two\")', 'def force_pos(a, b, /, c):\\n    print(a, b, c)\\n\\n\\nforce_pos(1, 2, c=\"Hello\")\\nforce_pos(1, 2, \"Hello\")\\n# force_pos(1,b=2,c=\\'Hello\\') Not allowed gives error', 'def name(a: int) -> bool:\\n    \"\"\"\\n    Test Function\\n    \"\"\"\\n    return True\\n\\n\\nprint(name.__name__)\\nprint(name.__doc__)\\nprint(name.__annotations__)', 'def test(x, y, z):\\n    print(x, y, z)\\n\\n\\na = (1, 2, 3)\\nb = {\"x\": 1, \"y\": 2, \"z\": 3}\\ntest(*a)\\ntest(**b)', 'def return_func():\\n    return (\"1\", \"2\")\\n\\n\\na, b = return_func()\\nprint(a, b)', 'f = lambda x: x * x\\nf(2)\\n\\ny = 2\\ng = lambda x: x * y\\ny = 10\\nl = lambda x: x * y\\nprint(\\n    g(3)\\n)  # This is not 20 because lambda function definition gets evaluated at execution\\nprint(l(3))', \"import time\\ndef after(seconds ,func):\\n    time.sleep(seconds)\\n    func()\\n\\ndef greeting():\\n    print('Hello World')\\n\\nafter(1,greeting)\\n############################################################\\ndef main():\\n    name = 'Ram'\\n    def greeting():\\n        print(f'Hello {name}') \\n    after(2,greeting) \\nmain() \\n############################################################\\ndef make_greeting(name):\\n    def greeting():\\n        print(f'Hello {name}')\\n    return greeting\\ntest = make_greeting('Nancy')\\nprint(test())        \", 'from functools import reduce\\n\\niterable = [1, 2, 3, 4]\\nprint(list(map(lambda x: x * x * x, iterable)))\\nprint(list(filter(lambda x: x % 2 == 0, iterable)))\\nprint(reduce(lambda x, y: (x + y) * 10, iterable, 100))', 'def add(x, y):\\n    return x + y\\n\\n\\nadd(1 + 1, 2 + 2)', 'def hilow(hi=1, low=2):\\n    return hi - low\\n\\n\\nhilow(1)', 'def var_args(*var_args):\\n    return type(var_args), var_args\\n\\n\\nvar_args(12, 243, 34, 354)', 'def func(w, x, y, z):\\n    print(f\"Hello{w+x+y+z}\")\\n\\n\\ndef func_mandate(w, x, *, z):\\n    print(f\"Hello{w+x+z}\")\\n\\n\\nfunc(y=\"A\", x=\"B\", z=\"C\", w=\"D\")\\nfunc(\"A\", \"B\", z=\"C\", y=\"D\")\\n# func(w=\\'A\\',x=\\'B\\',\\'C\\',\\'D\\')   Not Possible\\n# func_mandate(\\'A\\',\\'B\\', z=\\'C\\') Not Possible\\nfunc_mandate(\"A\", \"B\", z=\"C\")', 'def data(data, **kargs):\\n    print(kargs)\\n\\n\\ndata(1, Hi=\"Hello\", Tata=\"Bye\")', 'def all_args(*args, **kwargs):\\n    print(args, kwargs)\\n\\n\\nall_args(1, 2, Hi=\"Hello\", One=\"Two\")', 'def force_pos(a, b, /, c):\\n    print(a, b, c)\\n\\n\\nforce_pos(1, 2, c=\"Hello\")\\nforce_pos(1, 2, \"Hello\")\\n# force_pos(1,b=2,c=\\'Hello\\') Not allowed gives error', 'def name(a: int) -> bool:\\n    \"\"\"\\n    Test Function\\n    \"\"\"\\n    return True\\n\\n\\nprint(name.__name__)\\nprint(name.__doc__)\\nprint(name.__annotations__)', 'def test(x, y, z):\\n    print(x, y, z)\\n\\n\\na = (1, 2, 3)\\nb = {\"x\": 1, \"y\": 2, \"z\": 3}\\ntest(*a)\\ntest(**b)', 'def return_func():\\n    return (\"1\", \"2\")\\n\\n\\na, b = return_func()\\nprint(a, b)', 'f = lambda x: x * x\\nf(2)\\n\\ny = 2\\ng = lambda x: x * y\\ny = 10\\nl = lambda x: x * y\\nprint(\\n    g(3)\\n)  # This is not 20 because lambda function definition gets evaluated at execution\\nprint(l(3))', \"import time\\ndef after(seconds ,func):\\n    time.sleep(seconds)\\n    func()\\n\\ndef greeting():\\n    print('Hello World')\\n\\nafter(1,greeting)\\n############################################################\\ndef main():\\n    name = 'Ram'\\n    def greeting():\\n        print(f'Hello {name}') \\n    after(2,greeting) \\nmain() \\n############################################################\\ndef make_greeting(name):\\n    def greeting():\\n        print(f'Hello {name}')\\n    return greeting\\ntest = make_greeting('Nancy')\\nprint(test())        \", 'from functools import reduce\\n\\niterable = [1, 2, 3, 4]\\nprint(list(map(lambda x: x * x * x, iterable)))\\nprint(list(filter(lambda x: x % 2 == 0, iterable)))\\nprint(reduce(lambda x, y: (x + y) * 10, iterable, 100))', 'def add(x,y):\\n    def do_add():\\n        return x+y\\n    return do_add()\\na = do_add()\\nprint(a.__qualname__)', 'def add(x,y):\\n    def do_add():\\n        return x+y\\n    return do_add()\\na = do_add()\\nprint(a.__name__)', 'def add(x,y):\\n    def do_add():\\n        return x+y\\n    return do_add()\\na = add()\\nprint(a.__name__)', 'def add(x,y):\\n    def do_add():\\n        return x+y\\n    return do_add()\\na = add(5,6)\\nprint(a.__name__)', 'def add(x,y):\\n    def do_add():\\n        return x+y\\n    return do_add()\\na = add(5,6)\\na.__name__)', 'def add(x,y):\\n    def do_add():\\n        return x+y\\n    return do_add()\\na = add(5,6)\\na.__name__', 'def add(x,y):\\n    def do_add():\\n        return x+y\\n    return do_add()\\nadd.__name__', 'def add(x,y):\\n    def do_add():\\n        return x+y\\n    return do_add()\\nadd.__name__\\nadd.__qualname__', 'def add(x,y):\\n    def do_add():\\n        return x+y\\n    return do_add()\\nprint(add.__name__)\\nprint(add.__qualname__)', 'def add(x,y):\\n    def do_add():\\n        return x+y\\n    return do_add()\\nprint(add.__name__)\\nprint(add.__qualname__)\\nprint(add.__module__)', 'def add(x,y):\\n    def do_add():\\n        return x+y\\n    return do_add()\\nprint(add.__name__)\\nprint(add.__qualname__)\\nprint(add.__module__)\\nprint(add.__globals__)', 'def add(x,y):\\n    def do_add():\\n        return x+y\\n    return do_add()\\nprint(add.__name__)\\nprint(add.__qualname__)\\nprint(add.__module__)\\nprint(add.__globals__)\\nprint(add.__code__)', 'def add(x,y):\\n    def do_add():\\n        return x+y\\n    return do_add()\\nprint(add.__name__)\\nprint(add.__qualname__)\\nprint(add.__module__)\\nprint(add.__globals__)\\nprint(add.__code__)\\nprint(add.__closure__)', 'def add(x,y):\\n    def do_add():\\n        return x+y\\n    return do_add()\\nprint(add.__name__)\\nprint(add.__qualname__)\\nprint(add.__module__)\\nprint(add.__globals__)\\nprint(add.__code__)\\nprint(add(3,4).__closure__)', 'def add(x,y):\\n    def do_add():\\n        return x+y\\n    return do_add()\\nprint(add.__name__)\\nprint(add.__qualname__)\\nprint(add.__module__)\\nprint(add.__globals__)\\nprint(add.__code__)\\nprint(a.__closure__)', 'def add(x,y):\\n    def do_add():\\n        return x+y\\n    return do_add()\\nprint(add.__name__)\\nprint(add.__qualname__)\\nprint(add.__module__)\\nprint(add.__globals__)\\nprint(add.__code__)\\nprint(add.__closure__)', 'def add(x,y):\\n    def do_add():\\n        return x+y\\n    return do_add\\na = add(5,6)\\nprint(a.__name__)\\nprint(a.__qualname__)\\nprint(a.__module__)\\nprint(a.__globals__)\\nprint(a.__code__)\\nprint(a.__closure__)', 'def add(x,y):\\n    def do_add():\\n        return x+y\\n    return do_add\\na = add(5,6)\\nprint(a.__name__)\\nprint(a.__qualname__)\\nprint(a.__module__)\\nprint(a.__globals__)\\nprint(a.__code__)\\nprint(a.__closure__[0],a.__closure__[1])', 'def add(x,y):\\n    def do_add():\\n        return x+y\\n    return do_add\\na = add(5,6)\\nprint(a.__name__)\\nprint(a.__qualname__)\\nprint(a.__module__)\\nprint(a.__globals__)\\nprint(a.__code__)\\nprint(a.__closure__[0].cell_contents,a.__closure__[1].cell_contents)', 'def add(x,y):\\n    def do_add():\\n        return x+y\\n    return do_add\\na = add(5,6)\\nprint(a.__name__)\\nprint(a.__qualname__)\\nprint(a.__module__)\\nprint(a.__globals__)\\nprint(a.__code__)\\nprint(a.__closure__[0].cell_contents,a.__closure__[1].cell_contents)\\nimport inspect\\ninspect.signature(add)', 'def add(x:int,y:int):\\n    def do_add():\\n        return x+y\\n    return do_add\\na = add(5,6)\\nprint(a.__name__)\\nprint(a.__qualname__)\\nprint(a.__module__)\\nprint(a.__globals__)\\nprint(a.__code__)\\nprint(a.__closure__[0].cell_contents,a.__closure__[1].cell_contents)\\nimport inspect\\nprint(inspect.signature(add))', 'def add(x: int, y: int):\\n    def do_add():\\n        return x + y\\n\\n    return do_add\\n\\n\\na = add(5, 6)\\nprint(a.__name__)\\nprint(a.__qualname__)\\nprint(a.__module__)\\nprint(a.__globals__)\\nprint(a.__code__)\\nprint(a.__closure__[0].cell_contents, a.__closure__[1].cell_contents)\\nimport inspect\\n\\nprint(inspect.signature(add))'], 'Out': {1: 6, 2: -1, 3: (<class 'tuple'>, (12, 243, 34, 354)), 14: 6, 15: -1, 16: (<class 'tuple'>, (12, 243, 34, 354)), 33: 'add', 34: 'add', 46: <Signature (x, y)>}, 'get_ipython': <bound method InteractiveShell.get_ipython of <ipykernel.zmqshell.ZMQInteractiveShell object at 0x0000015028722630>>, 'exit': <IPython.core.autocall.ZMQExitAutocall object at 0x000001502869CE30>, 'quit': <IPython.core.autocall.ZMQExitAutocall object at 0x000001502869CE30>, 'open': <function open at 0x0000015027C1F060>, '_': <Signature (x, y)>, '__': 'add', '___': 'add', '__vsc_ipynb_file__': 'c:\\\\Users\\\\yadav\\\\VsCode\\\\dsa\\\\python_core\\\\functions.ipynb', '_i': 'def add(x:int,y:int):\\n    def do_add():\\n        return x+y\\n    return do_add\\na = add(5,6)\\nprint(a.__name__)\\nprint(a.__qualname__)\\nprint(a.__module__)\\nprint(a.__globals__)\\nprint(a.__code__)\\nprint(a.__closure__[0].cell_contents,a.__closure__[1].cell_contents)\\nimport inspect\\nprint(inspect.signature(add))', '_ii': 'def add(x,y):\\n    def do_add():\\n        return x+y\\n    return do_add\\na = add(5,6)\\nprint(a.__name__)\\nprint(a.__qualname__)\\nprint(a.__module__)\\nprint(a.__globals__)\\nprint(a.__code__)\\nprint(a.__closure__[0].cell_contents,a.__closure__[1].cell_contents)\\nimport inspect\\ninspect.signature(add)', '_iii': 'def add(x,y):\\n    def do_add():\\n        return x+y\\n    return do_add\\na = add(5,6)\\nprint(a.__name__)\\nprint(a.__qualname__)\\nprint(a.__module__)\\nprint(a.__globals__)\\nprint(a.__code__)\\nprint(a.__closure__[0].cell_contents,a.__closure__[1].cell_contents)', '_i1': 'def add(x, y):\\n    return x + y\\n\\n\\nadd(1 + 1, 2 + 2)', 'add': <function add at 0x000001502A1EE5C0>, '_1': 6, '_i2': 'def hilow(hi=1, low=2):\\n    return hi - low\\n\\n\\nhilow(1)', 'hilow': <function hilow at 0x0000015029AF6160>, '_2': -1, '_i3': 'def var_args(*var_args):\\n    return type(var_args), var_args\\n\\n\\nvar_args(12, 243, 34, 354)', 'var_args': <function var_args at 0x0000015029AF6520>, '_3': (<class 'tuple'>, (12, 243, 34, 354)), '_i4': 'def func(w, x, y, z):\\n    print(f\"Hello{w+x+y+z}\")\\n\\n\\ndef func_mandate(w, x, *, z):\\n    print(f\"Hello{w+x+z}\")\\n\\n\\nfunc(y=\"A\", x=\"B\", z=\"C\", w=\"D\")\\nfunc(\"A\", \"B\", z=\"C\", y=\"D\")\\n# func(w=\\'A\\',x=\\'B\\',\\'C\\',\\'D\\')   Not Possible\\n# func_mandate(\\'A\\',\\'B\\', z=\\'C\\') Not Possible\\nfunc_mandate(\"A\", \"B\", z=\"C\")', 'func': <function func at 0x0000015029AF62A0>, 'func_mandate': <function func_mandate at 0x0000015029AF4860>, '_i5': 'def data(data, **kargs):\\n    print(kargs)\\n\\n\\ndata(1, Hi=\"Hello\", Tata=\"Bye\")', 'data': <function data at 0x0000015029AF5BC0>, '_i6': 'def all_args(*args, **kwargs):\\n    print(args, kwargs)\\n\\n\\nall_args(1, 2, Hi=\"Hello\", One=\"Two\")', 'all_args': <function all_args at 0x0000015029AF5D00>, '_i7': 'def force_pos(a, b, /, c):\\n    print(a, b, c)\\n\\n\\nforce_pos(1, 2, c=\"Hello\")\\nforce_pos(1, 2, \"Hello\")\\n# force_pos(1,b=2,c=\\'Hello\\') Not allowed gives error', 'force_pos': <function force_pos at 0x0000015029AF5C60>, '_i8': 'def name(a: int) -> bool:\\n    \"\"\"\\n    Test Function\\n    \"\"\"\\n    return True\\n\\n\\nprint(name.__name__)\\nprint(name.__doc__)\\nprint(name.__annotations__)', 'name': <function name at 0x0000015029AF5760>, '_i9': 'def test(x, y, z):\\n    print(x, y, z)\\n\\n\\na = (1, 2, 3)\\nb = {\"x\": 1, \"y\": 2, \"z\": 3}\\ntest(*a)\\ntest(**b)', 'test': <function make_greeting.<locals>.greeting at 0x0000015029AF60C0>, 'a': <function add.<locals>.do_add at 0x000001502A1ED8A0>, 'b': '2', '_i10': 'def return_func():\\n    return (\"1\", \"2\")\\n\\n\\na, b = return_func()\\nprint(a, b)', 'return_func': <function return_func at 0x0000015029AF6700>, '_i11': 'f = lambda x: x * x\\nf(2)\\n\\ny = 2\\ng = lambda x: x * y\\ny = 10\\nl = lambda x: x * y\\nprint(\\n    g(3)\\n)  # This is not 20 because lambda function definition gets evaluated at execution\\nprint(l(3))', 'f': <function <lambda> at 0x0000015029AF5940>, 'y': 10, 'g': <function <lambda> at 0x0000015029AF6020>, 'l': <function <lambda> at 0x0000015029AF5DA0>, '_i12': \"import time\\ndef after(seconds ,func):\\n    time.sleep(seconds)\\n    func()\\n\\ndef greeting():\\n    print('Hello World')\\n\\nafter(1,greeting)\\n############################################################\\ndef main():\\n    name = 'Ram'\\n    def greeting():\\n        print(f'Hello {name}') \\n    after(2,greeting) \\nmain() \\n############################################################\\ndef make_greeting(name):\\n    def greeting():\\n        print(f'Hello {name}')\\n    return greeting\\ntest = make_greeting('Nancy')\\nprint(test())        \", 'time': <module 'time' (built-in)>, 'after': <function after at 0x0000015029AF5B20>, 'greeting': <function greeting at 0x0000015029AF5F80>, 'main': <function main at 0x0000015029AF5620>, 'make_greeting': <function make_greeting at 0x0000015029AF6480>, '_i13': 'from functools import reduce\\n\\niterable = [1, 2, 3, 4]\\nprint(list(map(lambda x: x * x * x, iterable)))\\nprint(list(filter(lambda x: x % 2 == 0, iterable)))\\nprint(reduce(lambda x, y: (x + y) * 10, iterable, 100))', 'reduce': <built-in function reduce>, 'iterable': [1, 2, 3, 4], '_i14': 'def add(x, y):\\n    return x + y\\n\\n\\nadd(1 + 1, 2 + 2)', '_14': 6, '_i15': 'def hilow(hi=1, low=2):\\n    return hi - low\\n\\n\\nhilow(1)', '_15': -1, '_i16': 'def var_args(*var_args):\\n    return type(var_args), var_args\\n\\n\\nvar_args(12, 243, 34, 354)', '_16': (<class 'tuple'>, (12, 243, 34, 354)), '_i17': 'def func(w, x, y, z):\\n    print(f\"Hello{w+x+y+z}\")\\n\\n\\ndef func_mandate(w, x, *, z):\\n    print(f\"Hello{w+x+z}\")\\n\\n\\nfunc(y=\"A\", x=\"B\", z=\"C\", w=\"D\")\\nfunc(\"A\", \"B\", z=\"C\", y=\"D\")\\n# func(w=\\'A\\',x=\\'B\\',\\'C\\',\\'D\\')   Not Possible\\n# func_mandate(\\'A\\',\\'B\\', z=\\'C\\') Not Possible\\nfunc_mandate(\"A\", \"B\", z=\"C\")', '_i18': 'def data(data, **kargs):\\n    print(kargs)\\n\\n\\ndata(1, Hi=\"Hello\", Tata=\"Bye\")', '_i19': 'def all_args(*args, **kwargs):\\n    print(args, kwargs)\\n\\n\\nall_args(1, 2, Hi=\"Hello\", One=\"Two\")', '_i20': 'def force_pos(a, b, /, c):\\n    print(a, b, c)\\n\\n\\nforce_pos(1, 2, c=\"Hello\")\\nforce_pos(1, 2, \"Hello\")\\n# force_pos(1,b=2,c=\\'Hello\\') Not allowed gives error', '_i21': 'def name(a: int) -> bool:\\n    \"\"\"\\n    Test Function\\n    \"\"\"\\n    return True\\n\\n\\nprint(name.__name__)\\nprint(name.__doc__)\\nprint(name.__annotations__)', '_i22': 'def test(x, y, z):\\n    print(x, y, z)\\n\\n\\na = (1, 2, 3)\\nb = {\"x\": 1, \"y\": 2, \"z\": 3}\\ntest(*a)\\ntest(**b)', '_i23': 'def return_func():\\n    return (\"1\", \"2\")\\n\\n\\na, b = return_func()\\nprint(a, b)', '_i24': 'f = lambda x: x * x\\nf(2)\\n\\ny = 2\\ng = lambda x: x * y\\ny = 10\\nl = lambda x: x * y\\nprint(\\n    g(3)\\n)  # This is not 20 because lambda function definition gets evaluated at execution\\nprint(l(3))', '_i25': \"import time\\ndef after(seconds ,func):\\n    time.sleep(seconds)\\n    func()\\n\\ndef greeting():\\n    print('Hello World')\\n\\nafter(1,greeting)\\n############################################################\\ndef main():\\n    name = 'Ram'\\n    def greeting():\\n        print(f'Hello {name}') \\n    after(2,greeting) \\nmain() \\n############################################################\\ndef make_greeting(name):\\n    def greeting():\\n        print(f'Hello {name}')\\n    return greeting\\ntest = make_greeting('Nancy')\\nprint(test())        \", '_i26': 'from functools import reduce\\n\\niterable = [1, 2, 3, 4]\\nprint(list(map(lambda x: x * x * x, iterable)))\\nprint(list(filter(lambda x: x % 2 == 0, iterable)))\\nprint(reduce(lambda x, y: (x + y) * 10, iterable, 100))', '_i27': 'def add(x,y):\\n    def do_add():\\n        return x+y\\n    return do_add()\\na = do_add()\\nprint(a.__qualname__)', '_i28': 'def add(x,y):\\n    def do_add():\\n        return x+y\\n    return do_add()\\na = do_add()\\nprint(a.__name__)', '_i29': 'def add(x,y):\\n    def do_add():\\n        return x+y\\n    return do_add()\\na = add()\\nprint(a.__name__)', '_i30': 'def add(x,y):\\n    def do_add():\\n        return x+y\\n    return do_add()\\na = add(5,6)\\nprint(a.__name__)', '_i31': 'def add(x,y):\\n    def do_add():\\n        return x+y\\n    return do_add()\\na = add(5,6)\\na.__name__)', '_i32': 'def add(x,y):\\n    def do_add():\\n        return x+y\\n    return do_add()\\na = add(5,6)\\na.__name__', '_i33': 'def add(x,y):\\n    def do_add():\\n        return x+y\\n    return do_add()\\nadd.__name__', '_33': 'add', '_i34': 'def add(x,y):\\n    def do_add():\\n        return x+y\\n    return do_add()\\nadd.__name__\\nadd.__qualname__', '_34': 'add', '_i35': 'def add(x,y):\\n    def do_add():\\n        return x+y\\n    return do_add()\\nprint(add.__name__)\\nprint(add.__qualname__)', '_i36': 'def add(x,y):\\n    def do_add():\\n        return x+y\\n    return do_add()\\nprint(add.__name__)\\nprint(add.__qualname__)\\nprint(add.__module__)', '_i37': 'def add(x,y):\\n    def do_add():\\n        return x+y\\n    return do_add()\\nprint(add.__name__)\\nprint(add.__qualname__)\\nprint(add.__module__)\\nprint(add.__globals__)', '_i38': 'def add(x,y):\\n    def do_add():\\n        return x+y\\n    return do_add()\\nprint(add.__name__)\\nprint(add.__qualname__)\\nprint(add.__module__)\\nprint(add.__globals__)\\nprint(add.__code__)', '_i39': 'def add(x,y):\\n    def do_add():\\n        return x+y\\n    return do_add()\\nprint(add.__name__)\\nprint(add.__qualname__)\\nprint(add.__module__)\\nprint(add.__globals__)\\nprint(add.__code__)\\nprint(add.__closure__)', '_i40': 'def add(x,y):\\n    def do_add():\\n        return x+y\\n    return do_add()\\nprint(add.__name__)\\nprint(add.__qualname__)\\nprint(add.__module__)\\nprint(add.__globals__)\\nprint(add.__code__)\\nprint(add(3,4).__closure__)', '_i41': 'def add(x,y):\\n    def do_add():\\n        return x+y\\n    return do_add()\\nprint(add.__name__)\\nprint(add.__qualname__)\\nprint(add.__module__)\\nprint(add.__globals__)\\nprint(add.__code__)\\nprint(a.__closure__)', '_i42': 'def add(x,y):\\n    def do_add():\\n        return x+y\\n    return do_add()\\nprint(add.__name__)\\nprint(add.__qualname__)\\nprint(add.__module__)\\nprint(add.__globals__)\\nprint(add.__code__)\\nprint(add.__closure__)', '_i43': 'def add(x,y):\\n    def do_add():\\n        return x+y\\n    return do_add\\na = add(5,6)\\nprint(a.__name__)\\nprint(a.__qualname__)\\nprint(a.__module__)\\nprint(a.__globals__)\\nprint(a.__code__)\\nprint(a.__closure__)', '_i44': 'def add(x,y):\\n    def do_add():\\n        return x+y\\n    return do_add\\na = add(5,6)\\nprint(a.__name__)\\nprint(a.__qualname__)\\nprint(a.__module__)\\nprint(a.__globals__)\\nprint(a.__code__)\\nprint(a.__closure__[0],a.__closure__[1])', '_i45': 'def add(x,y):\\n    def do_add():\\n        return x+y\\n    return do_add\\na = add(5,6)\\nprint(a.__name__)\\nprint(a.__qualname__)\\nprint(a.__module__)\\nprint(a.__globals__)\\nprint(a.__code__)\\nprint(a.__closure__[0].cell_contents,a.__closure__[1].cell_contents)', '_i46': 'def add(x,y):\\n    def do_add():\\n        return x+y\\n    return do_add\\na = add(5,6)\\nprint(a.__name__)\\nprint(a.__qualname__)\\nprint(a.__module__)\\nprint(a.__globals__)\\nprint(a.__code__)\\nprint(a.__closure__[0].cell_contents,a.__closure__[1].cell_contents)\\nimport inspect\\ninspect.signature(add)', 'inspect': <module 'inspect' from 'c:\\\\Program Files\\\\Python\\\\Lib\\\\inspect.py'>, '_46': <Signature (x, y)>, '_i47': 'def add(x:int,y:int):\\n    def do_add():\\n        return x+y\\n    return do_add\\na = add(5,6)\\nprint(a.__name__)\\nprint(a.__qualname__)\\nprint(a.__module__)\\nprint(a.__globals__)\\nprint(a.__code__)\\nprint(a.__closure__[0].cell_contents,a.__closure__[1].cell_contents)\\nimport inspect\\nprint(inspect.signature(add))', '_i48': 'def add(x: int, y: int):\\n    def do_add():\\n        return x + y\\n\\n    return do_add\\n\\n\\na = add(5, 6)\\nprint(a.__name__)\\nprint(a.__qualname__)\\nprint(a.__module__)\\nprint(a.__globals__)\\nprint(a.__code__)\\nprint(a.__closure__[0].cell_contents, a.__closure__[1].cell_contents)\\nimport inspect\\n\\nprint(inspect.signature(add))'}\n",
      "<code object do_add at 0x000001502A20C030, file \"C:\\Users\\yadav\\AppData\\Local\\Temp\\ipykernel_21096\\719794629.py\", line 2>\n",
      "5 6\n",
      "(x: int, y: int)\n"
     ]
    }
   ],
   "source": [
    "def add(x: int, y: int):\n",
    "    def do_add():\n",
    "        return x + y\n",
    "\n",
    "    return do_add\n",
    "\n",
    "\n",
    "a = add(5, 6)\n",
    "print(a.__name__)\n",
    "print(a.__qualname__)\n",
    "print(a.__module__)\n",
    "print(a.__globals__)\n",
    "print(a.__code__)\n",
    "print(a.__closure__[0].cell_contents, a.__closure__[1].cell_contents)\n",
    "import inspect\n",
    "\n",
    "print(inspect.signature(add))"
   ]
  }
 ],
 "metadata": {
  "kernelspec": {
   "display_name": "Python 3",
   "language": "python",
   "name": "python3"
  },
  "language_info": {
   "codemirror_mode": {
    "name": "ipython",
    "version": 3
   },
   "file_extension": ".py",
   "mimetype": "text/x-python",
   "name": "python",
   "nbconvert_exporter": "python",
   "pygments_lexer": "ipython3",
   "version": "3.12.4"
  }
 },
 "nbformat": 4,
 "nbformat_minor": 2
}
