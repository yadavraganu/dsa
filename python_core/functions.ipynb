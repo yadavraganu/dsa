{
 "cells": [
  {
   "cell_type": "markdown",
   "metadata": {},
   "source": [
    "# 6.1 Function Definitions\n",
    "- Arguments are fully evaluated left-to-right before execution of function body"
   ]
  },
  {
   "cell_type": "code",
   "execution_count": 12,
   "metadata": {},
   "outputs": [
    {
     "data": {
      "text/plain": [
       "6"
      ]
     },
     "execution_count": 12,
     "metadata": {},
     "output_type": "execute_result"
    }
   ],
   "source": [
    "def add(x, y):\n",
    "    return x + y\n",
    "\n",
    "\n",
    "add(1 + 1, 2 + 2)"
   ]
  },
  {
   "cell_type": "markdown",
   "metadata": {},
   "source": [
    "# 6.2 Default Arguments\n",
    "- When a function defines a parameter with default value, that parameter and other that follow are optional while calling\n",
    "- It is not possible to specify a parameter with no default value  after any parameter defined with default value\n",
    "- Default parameters are evalauted once when function is first defined not each time function is called\n",
    "- Best practice is to use immutable objects as default like number,string,bool,None etc"
   ]
  },
  {
   "cell_type": "code",
   "execution_count": 13,
   "metadata": {},
   "outputs": [
    {
     "data": {
      "text/plain": [
       "-1"
      ]
     },
     "execution_count": 13,
     "metadata": {},
     "output_type": "execute_result"
    }
   ],
   "source": [
    "def hilow(hi=1, low=2):\n",
    "    return hi - low\n",
    "\n",
    "\n",
    "hilow(1)"
   ]
  },
  {
   "cell_type": "markdown",
   "metadata": {},
   "source": [
    "# 6.3 Variadic Args\n",
    "- *name Can be used to get variable number of args \n",
    "- These are stored as tuple in name variable"
   ]
  },
  {
   "cell_type": "code",
   "execution_count": 14,
   "metadata": {},
   "outputs": [
    {
     "data": {
      "text/plain": [
       "(tuple, (12, 243, 34, 354))"
      ]
     },
     "execution_count": 14,
     "metadata": {},
     "output_type": "execute_result"
    }
   ],
   "source": [
    "def var_args(*var_args):\n",
    "    return type(var_args), var_args\n",
    "\n",
    "\n",
    "var_args(12, 243, 34, 354)"
   ]
  },
  {
   "cell_type": "markdown",
   "metadata": {},
   "source": [
    "# 6.4 Keyword Args\n",
    "- With keywords arguments the order of args does not matter while calling as long as each args get a value\n",
    "- If any of the required args is omitted or keyword does not match with function def parameter than error is thrown\n",
    "- Positional args can be used with keyword args provided all positional args comes first in function def\n",
    "- Use of keyword args can be forced by defined * after a parameter in function def"
   ]
  },
  {
   "cell_type": "code",
   "execution_count": 15,
   "metadata": {},
   "outputs": [
    {
     "name": "stdout",
     "output_type": "stream",
     "text": [
      "HelloDBAC\n",
      "HelloABDC\n",
      "HelloABC\n"
     ]
    }
   ],
   "source": [
    "def func(w, x, y, z):\n",
    "    print(f\"Hello{w+x+y+z}\")\n",
    "\n",
    "\n",
    "def func_mandate(w, x, *, z):\n",
    "    print(f\"Hello{w+x+z}\")\n",
    "\n",
    "\n",
    "func(y=\"A\", x=\"B\", z=\"C\", w=\"D\")\n",
    "func(\"A\", \"B\", z=\"C\", y=\"D\")\n",
    "# func(w='A',x='B','C','D')   Not Possible\n",
    "# func_mandate('A','B', z='C') Not Possible\n",
    "func_mandate(\"A\", \"B\", z=\"C\")"
   ]
  },
  {
   "cell_type": "markdown",
   "metadata": {},
   "source": [
    "# 6.5 Variadic Keyword Args\n",
    "- If the last argument of a function is prefixed with ** then all additional keywrods args are passed a dict to function"
   ]
  },
  {
   "cell_type": "code",
   "execution_count": 16,
   "metadata": {},
   "outputs": [
    {
     "name": "stdout",
     "output_type": "stream",
     "text": [
      "{'Hi': 'Hello', 'Tata': 'Bye'}\n"
     ]
    }
   ],
   "source": [
    "def data(data, **kargs):\n",
    "    print(kargs)\n",
    "\n",
    "\n",
    "data(1, Hi=\"Hello\", Tata=\"Bye\")"
   ]
  },
  {
   "cell_type": "markdown",
   "metadata": {},
   "source": [
    "# 6.6 Function Accepting All Input"
   ]
  },
  {
   "cell_type": "code",
   "execution_count": 17,
   "metadata": {},
   "outputs": [
    {
     "name": "stdout",
     "output_type": "stream",
     "text": [
      "(1, 2) {'Hi': 'Hello', 'One': 'Two'}\n"
     ]
    }
   ],
   "source": [
    "def all_args(*args, **kwargs):\n",
    "    print(args, kwargs)\n",
    "\n",
    "\n",
    "all_args(1, 2, Hi=\"Hello\", One=\"Two\")"
   ]
  },
  {
   "cell_type": "markdown",
   "metadata": {},
   "source": [
    "# 6.7 Positional-Only Args\n",
    "- This can be forced by using (/). All arguments coming before / should be positional"
   ]
  },
  {
   "cell_type": "code",
   "execution_count": 18,
   "metadata": {},
   "outputs": [
    {
     "name": "stdout",
     "output_type": "stream",
     "text": [
      "1 2 Hello\n",
      "1 2 Hello\n"
     ]
    }
   ],
   "source": [
    "def force_pos(a, b, /, c):\n",
    "    print(a, b, c)\n",
    "\n",
    "\n",
    "force_pos(1, 2, c=\"Hello\")\n",
    "force_pos(1, 2, \"Hello\")\n",
    "# force_pos(1,b=2,c='Hello') Not allowed gives error"
   ]
  },
  {
   "cell_type": "markdown",
   "metadata": {},
   "source": [
    "# 6.8 Names,Doc String,Type Hint\n",
    "- Use lower case word separated by _ for function names (Best Practice)\n",
    "- If any internal function use _name to give the name (Best Practice)\n",
    "- __ name __ get function name\n",
    "- __ doc __ doc string\n",
    "- __ annotations __ get annotation"
   ]
  },
  {
   "cell_type": "code",
   "execution_count": 19,
   "metadata": {},
   "outputs": [
    {
     "name": "stdout",
     "output_type": "stream",
     "text": [
      "name\n",
      "\n",
      "    Test Function\n",
      "    \n",
      "{'a': <class 'int'>, 'return': <class 'bool'>}\n"
     ]
    }
   ],
   "source": [
    "def name(a: int) -> bool:\n",
    "    \"\"\"\n",
    "    Test Function\n",
    "    \"\"\"\n",
    "    return True\n",
    "\n",
    "\n",
    "print(name.__name__)\n",
    "print(name.__doc__)\n",
    "print(name.__annotations__)"
   ]
  },
  {
   "cell_type": "markdown",
   "metadata": {},
   "source": [
    "# 6.9 Function Parameter Passing\n",
    "- When a function is called, the function parameters are local names that get bound to the passed input objects\n",
    "- Python passes the supplied object to function as is without extra copy\n",
    "- If changes are made without reassigning then that can change original object\n",
    "- Dictionary can be passed as args\n",
    "- Tuple can be passed as args"
   ]
  },
  {
   "cell_type": "code",
   "execution_count": 20,
   "metadata": {},
   "outputs": [
    {
     "name": "stdout",
     "output_type": "stream",
     "text": [
      "1 2 3\n",
      "1 2 3\n"
     ]
    }
   ],
   "source": [
    "def test(x, y, z):\n",
    "    print(x, y, z)\n",
    "\n",
    "\n",
    "a = (1, 2, 3)\n",
    "b = {\"x\": 1, \"y\": 2, \"z\": 3}\n",
    "test(*a)\n",
    "test(**b)"
   ]
  },
  {
   "cell_type": "markdown",
   "metadata": {},
   "source": [
    "# 6.10 Return Value\n",
    "- If there is no return in function None is returned\n",
    "- If need to return multiple values better to placae it in tuple"
   ]
  },
  {
   "cell_type": "code",
   "execution_count": 21,
   "metadata": {},
   "outputs": [
    {
     "name": "stdout",
     "output_type": "stream",
     "text": [
      "1 2\n"
     ]
    }
   ],
   "source": [
    "def return_func():\n",
    "    return (\"1\", \"2\")\n",
    "\n",
    "\n",
    "a, b = return_func()\n",
    "print(a, b)"
   ]
  },
  {
   "cell_type": "markdown",
   "metadata": {},
   "source": [
    "# 6.11 Error Handling\n",
    "- Error can handled by raising a exception in function before returning\n",
    "- Common practice is to return None,False,-1 in case of errors"
   ]
  },
  {
   "cell_type": "code",
   "execution_count": null,
   "metadata": {},
   "outputs": [],
   "source": []
  },
  {
   "cell_type": "markdown",
   "metadata": {},
   "source": [
    "# 6.12 Scoping Rules"
   ]
  },
  {
   "cell_type": "code",
   "execution_count": null,
   "metadata": {},
   "outputs": [],
   "source": []
  },
  {
   "cell_type": "markdown",
   "metadata": {},
   "source": [
    "# 6.13 Recursion"
   ]
  },
  {
   "cell_type": "code",
   "execution_count": null,
   "metadata": {},
   "outputs": [],
   "source": []
  },
  {
   "cell_type": "markdown",
   "metadata": {},
   "source": [
    "# 6.14 lambda\n",
    "__Syntax :__ lambda args:expression\n",
    "- args is a comma separated list of arguments\n",
    "- Multiple line statement or non expresssion statement such as try , except not allowed\n",
    "- Caution is required while using free variable in lambda expression"
   ]
  },
  {
   "cell_type": "code",
   "execution_count": 22,
   "metadata": {},
   "outputs": [
    {
     "name": "stdout",
     "output_type": "stream",
     "text": [
      "30\n",
      "30\n"
     ]
    }
   ],
   "source": [
    "f = lambda x: x * x\n",
    "f(2)\n",
    "\n",
    "y = 2\n",
    "g = lambda x: x * y\n",
    "y = 10\n",
    "l = lambda x: x * y\n",
    "print(\n",
    "    g(3)\n",
    ")  # This is not 20 because lambda function definition gets evaluated at execution\n",
    "print(l(3))"
   ]
  },
  {
   "cell_type": "markdown",
   "metadata": {},
   "source": [
    "# 6.15 Higher-Order Function\n",
    "- Functions can be passed as argument to other functions & also can be returned from function\n",
    "- When a function is passed as data it implicitly carries info related to the env in which function was defined"
   ]
  },
  {
   "cell_type": "code",
   "execution_count": 36,
   "metadata": {},
   "outputs": [
    {
     "name": "stdout",
     "output_type": "stream",
     "text": [
      "Hello World\n",
      "Hello Ram\n",
      "Hello Nancy\n",
      "None\n"
     ]
    }
   ],
   "source": [
    "import time\n",
    "def after(seconds ,func):\n",
    "    time.sleep(seconds)\n",
    "    func()\n",
    "\n",
    "def greeting():\n",
    "    print('Hello World')\n",
    "\n",
    "after(1,greeting)\n",
    "############################################################\n",
    "def main():\n",
    "    name = 'Ram'\n",
    "    def greeting():\n",
    "        print(f'Hello {name}') \n",
    "    after(2,greeting) \n",
    "main() \n",
    "############################################################\n",
    "def make_greeting(name):\n",
    "    def greeting():\n",
    "        print(f'Hello {name}')\n",
    "    return greeting\n",
    "test = make_greeting('Nancy')\n",
    "print(test())        "
   ]
  },
  {
   "cell_type": "markdown",
   "metadata": {},
   "source": [
    "# 6.19 Map ,Filter & Reduce\n",
    "- map(function,iterable) used to apply function to each element of iterable\n",
    "- filter(function,iterable) used to filter each element of iterable\n",
    "- reduce(function,iterable,intial_value)"
   ]
  },
  {
   "cell_type": "code",
   "execution_count": 28,
   "metadata": {},
   "outputs": [
    {
     "name": "stdout",
     "output_type": "stream",
     "text": [
      "[1, 8, 27, 64]\n",
      "[2, 4]\n",
      "1012340\n"
     ]
    }
   ],
   "source": [
    "from functools import reduce\n",
    "\n",
    "iterable = [1, 2, 3, 4]\n",
    "print(list(map(lambda x: x * x * x, iterable)))\n",
    "print(list(filter(lambda x: x % 2 == 0, iterable)))\n",
    "print(reduce(lambda x, y: (x + y) * 10, iterable, 100))"
   ]
  }
 ],
 "metadata": {
  "kernelspec": {
   "display_name": "Python 3",
   "language": "python",
   "name": "python3"
  },
  "language_info": {
   "codemirror_mode": {
    "name": "ipython",
    "version": 3
   },
   "file_extension": ".py",
   "mimetype": "text/x-python",
   "name": "python",
   "nbconvert_exporter": "python",
   "pygments_lexer": "ipython3",
   "version": "3.12.2"
  }
 },
 "nbformat": 4,
 "nbformat_minor": 2
}
