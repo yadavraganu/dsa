{
 "cells": [
  {
   "cell_type": "markdown",
   "metadata": {},
   "source": [
    "# 6.1 Function Definitions\n",
    "- Arguments are fully evaluated left-to-right before execution of function body"
   ]
  },
  {
   "cell_type": "code",
   "execution_count": 48,
   "metadata": {},
   "outputs": [
    {
     "data": {
      "text/plain": [
       "6"
      ]
     },
     "execution_count": 48,
     "metadata": {},
     "output_type": "execute_result"
    }
   ],
   "source": [
    "def add(x,y):\n",
    "    return x+y\n",
    "add(1+1,2+2)\n"
   ]
  },
  {
   "cell_type": "markdown",
   "metadata": {},
   "source": [
    "# 6.2 Default Arguments\n",
    "- When a function defines a parameter with default value, that parameter and other that follow are optional while calling\n",
    "- It is not possible to specify a parameter with no default value  after any parameter defined with default value\n",
    "- Default parameters are evalauted once when function is first defined not each time function is called\n",
    "- Best practice is to use immutable objects as default like number,string,bool,None etc"
   ]
  },
  {
   "cell_type": "code",
   "execution_count": 49,
   "metadata": {},
   "outputs": [
    {
     "data": {
      "text/plain": [
       "-1"
      ]
     },
     "execution_count": 49,
     "metadata": {},
     "output_type": "execute_result"
    }
   ],
   "source": [
    "def hilow(hi = 1, low = 2):\n",
    "    return hi-low \n",
    "hilow(1)"
   ]
  },
  {
   "cell_type": "markdown",
   "metadata": {},
   "source": [
    "# 6.3 Variadic Args\n",
    "- *name Can be used to get variable number of args \n",
    "- These are stored as tuple in name variable"
   ]
  },
  {
   "cell_type": "code",
   "execution_count": 50,
   "metadata": {},
   "outputs": [
    {
     "data": {
      "text/plain": [
       "(tuple, (12, 243, 34, 354))"
      ]
     },
     "execution_count": 50,
     "metadata": {},
     "output_type": "execute_result"
    }
   ],
   "source": [
    "def var_args(*var_args):\n",
    "    return type(var_args),var_args\n",
    "var_args(12,243,34,354)"
   ]
  },
  {
   "cell_type": "markdown",
   "metadata": {},
   "source": [
    "# 6.4 Keyword Args\n",
    "- With keywords arguments the order of args does not matter while calling as long as each args get a value\n",
    "- If any of the required args is omitted or keyword does not match with function def parameter than error is thrown\n",
    "- Positional args can be used keyword args provided all positional args comes first in function def\n",
    "- Use of keyword args can be forced by defined * after a parameter in function def"
   ]
  },
  {
   "cell_type": "code",
   "execution_count": 51,
   "metadata": {},
   "outputs": [
    {
     "name": "stdout",
     "output_type": "stream",
     "text": [
      "HelloDBAC\n",
      "HelloABDC\n",
      "HelloABC\n"
     ]
    }
   ],
   "source": [
    "def func(w,x,y,z):\n",
    "    print(f'Hello{w+x+y+z}')\n",
    "\n",
    "def func_mandate(w,x,*,z):\n",
    "    print(f'Hello{w+x+z}')\n",
    "\n",
    "func(y='A',x='B',z='C',w='D')  \n",
    "func('A','B',z='C',y='D')\n",
    "# func(w='A',x='B','C','D')   Not Possible\n",
    "# func_mandate('A','B', z='C') Not Possible\n",
    "func_mandate('A','B',z='C')"
   ]
  }
 ],
 "metadata": {
  "kernelspec": {
   "display_name": "Python 3",
   "language": "python",
   "name": "python3"
  },
  "language_info": {
   "codemirror_mode": {
    "name": "ipython",
    "version": 3
   },
   "file_extension": ".py",
   "mimetype": "text/x-python",
   "name": "python",
   "nbconvert_exporter": "python",
   "pygments_lexer": "ipython3",
   "version": "3.12.2"
  }
 },
 "nbformat": 4,
 "nbformat_minor": 2
}
