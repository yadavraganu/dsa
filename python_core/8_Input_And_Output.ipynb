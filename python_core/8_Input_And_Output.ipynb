{
 "cells": [
  {
   "cell_type": "markdown",
   "metadata": {},
   "source": [
    "# 8.5 Environment Variables"
   ]
  },
  {
   "cell_type": "code",
   "execution_count": null,
   "metadata": {},
   "outputs": [],
   "source": [
    " "
   ]
  },
  {
   "cell_type": "markdown",
   "metadata": {},
   "source": [
    "# 8.9 Directories\n",
    "- Use os.listdir to list the directories\n",
    "- Use pathlib.path().glob for pattern matching\n",
    "- Use pathlib.path().rglob for pattern matching with recursive search\n"
   ]
  },
  {
   "cell_type": "code",
   "execution_count": 25,
   "metadata": {},
   "outputs": [
    {
     "name": "stdout",
     "output_type": "stream",
     "text": [
      "1_Basics.ipynb\n",
      "2_Operator_Expression_And_Data_Manipulation.ipynb\n",
      "3_Program_Structure_And_Control_Flow.ipynb\n",
      "4_Objects_Types_And_Protocals.ipynb\n",
      "6_Functions.ipynb\n",
      "7_Classes_And_Object_Oriented_Programming.ipynb\n",
      "8_Input_And_Output.ipynb\n",
      "Test.txt\n",
      "TestFile.txt\n",
      "TestFileOut.txt\n",
      "############### Using Pathlib Glob ########################\n",
      "Test.txt\n",
      "TestFile.txt\n",
      "TestFileOut.txt\n"
     ]
    }
   ],
   "source": [
    "import os ,pathlib\n",
    "names = os.listdir('.')\n",
    "for name in names:\n",
    "    print(name)\n",
    "print('############### Using Pathlib Glob ########################')\n",
    "for filename in pathlib.Path('.').glob('*.txt'):\n",
    "    print(filename)\n"
   ]
  },
  {
   "cell_type": "markdown",
   "metadata": {},
   "source": [
    "# 8.10 The print() function"
   ]
  },
  {
   "cell_type": "code",
   "execution_count": 26,
   "metadata": {},
   "outputs": [
    {
     "name": "stdout",
     "output_type": "stream",
     "text": [
      "Print values space separated A 1 2\n",
      "Change the line end character from newline A 1 2@\n",
      "Change saparator__A__1__2\n"
     ]
    }
   ],
   "source": [
    "x = \"A\"\n",
    "y = 1\n",
    "z = 2\n",
    "print(\"Print values space separated\", x, y, z)\n",
    "print(\"Change the line end character from newline\", x, y, z, end=\"@\\n\")\n",
    "print(\"Change saparator\", x, y, z, sep=\"__\")\n",
    "f = open('Test.txt','w')\n",
    "print(\"Redirect to file\", x, y, z, file=f)"
   ]
  },
  {
   "cell_type": "markdown",
   "metadata": {},
   "source": [
    "# 8.15.26 time Module"
   ]
  },
  {
   "cell_type": "code",
   "execution_count": 27,
   "metadata": {},
   "outputs": [
    {
     "name": "stdout",
     "output_type": "stream",
     "text": [
      "Delay execution for a given number of seconds. The argument may be a floating point number for subsecond precision\n",
      "\n",
      "Return the current time in seconds since the Epoch\n",
      "1723809448.743528\n",
      "\n",
      "Convert seconds since the Epoch to a time tuple expressing local time. When seconds is not passed in, convert the current time instead\n",
      "time.struct_time(tm_year=2024, tm_mon=8, tm_mday=16, tm_hour=17, tm_min=27, tm_sec=28, tm_wday=4, tm_yday=229, tm_isdst=0)\n",
      "\n",
      "Convert seconds since the Epoch to a time tuple expressing UTC (a.k.a.GMT). When seconds is not passed in, convert the current time instead\n",
      "time.struct_time(tm_year=2024, tm_mon=8, tm_mday=16, tm_hour=11, tm_min=57, tm_sec=28, tm_wday=4, tm_yday=229, tm_isdst=0)\n",
      "\n",
      "Convert a time in seconds since the Epoch to a string in local time. This is equivalent to asctime(localtime(seconds)).\n",
      "When the time tuple is not present, current time as returned by localtime() is used\n",
      "Fri Aug 16 17:27:28 2024\n",
      "\n",
      "Convert a time tuple to a string, e.g. Sat Jun 06 16:26:11 1998. \n",
      " When the time tuple is not present, current time as returned by localtime() is used\n",
      "Fri Aug 16 17:27:28 2024\n"
     ]
    }
   ],
   "source": [
    "import time\n",
    "print('Delay execution for a given number of seconds. The argument may be a floating point number for subsecond precision')\n",
    "time.sleep(0)\n",
    "print('\\nReturn the current time in seconds since the Epoch')\n",
    "print(time.time())\n",
    "print('\\nConvert seconds since the Epoch to a time tuple expressing local time. When seconds is not passed in, convert the current time instead')\n",
    "print(time.localtime())\n",
    "print('\\nConvert seconds since the Epoch to a time tuple expressing UTC (a.k.a.GMT). When seconds is not passed in, convert the current time instead')\n",
    "print(time.gmtime())\n",
    "print('\\nConvert a time in seconds since the Epoch to a string in local time. This is equivalent to asctime(localtime(seconds)).\\nWhen the time tuple is not present, current time as returned by localtime() is used')\n",
    "print(time.ctime())\n",
    "print('\\nConvert a time tuple to a string, e.g. Sat Jun 06 16:26:11 1998. \\n When the time tuple is not present, current time as returned by localtime() is used')\n",
    "print(time.asctime())"
   ]
  }
 ],
 "metadata": {
  "kernelspec": {
   "display_name": "Python 3",
   "language": "python",
   "name": "python3"
  },
  "language_info": {
   "codemirror_mode": {
    "name": "ipython",
    "version": 3
   },
   "file_extension": ".py",
   "mimetype": "text/x-python",
   "name": "python",
   "nbconvert_exporter": "python",
   "pygments_lexer": "ipython3",
   "version": "3.12.4"
  }
 },
 "nbformat": 4,
 "nbformat_minor": 2
}
