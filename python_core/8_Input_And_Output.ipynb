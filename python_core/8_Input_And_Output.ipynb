{
 "cells": [
  {
   "cell_type": "markdown",
   "metadata": {},
   "source": [
    "# 8.9 Directories\n",
    "- Use os.listdir to list the directories\n",
    "- Use pathlib.path().glob for pattern matching\n",
    "- Use pathlib.path().rglob for pattern matching with recursive search\n"
   ]
  },
  {
   "cell_type": "code",
   "execution_count": 4,
   "metadata": {},
   "outputs": [
    {
     "name": "stdout",
     "output_type": "stream",
     "text": [
      "1_Basics.ipynb\n",
      "2_Operator_Expression_And_Data_Manipulation.ipynb\n",
      "3_Program_Structure_And_Control_Flow.ipynb\n",
      "4_Objects_Types_And_Protocals.ipynb\n",
      "6_Functions.ipynb\n",
      "7_Classes_And_Object_Oriented_Programming.ipynb\n",
      "8_Input_And_Output.ipynb\n",
      "exceptionHandling.py\n",
      "generators.ipynb\n",
      "list.md\n",
      "Test.txt\n",
      "TestFile.txt\n",
      "TestFileOut.txt\n",
      "time_space_complexity.md\n",
      "############### Using Pathlib Glob ########################\n",
      "Test.txt\n",
      "TestFile.txt\n",
      "TestFileOut.txt\n"
     ]
    }
   ],
   "source": [
    "import os ,pathlib\n",
    "names = os.listdir('.')\n",
    "for name in names:\n",
    "    print(name)\n",
    "print('############### Using Pathlib Glob ########################')\n",
    "for filename in pathlib.Path('.').glob('*.txt'):\n",
    "    print(filename)\n"
   ]
  },
  {
   "cell_type": "markdown",
   "metadata": {},
   "source": [
    "# 8.10 The print() function"
   ]
  },
  {
   "cell_type": "code",
   "execution_count": 5,
   "metadata": {},
   "outputs": [
    {
     "name": "stdout",
     "output_type": "stream",
     "text": [
      "Print values space separated A 1 2\n",
      "Change the line end character from newline A 1 2@\n",
      "Change saparator__A__1__2\n"
     ]
    }
   ],
   "source": [
    "x = \"A\"\n",
    "y = 1\n",
    "z = 2\n",
    "print(\"Print values space separated\", x, y, z)\n",
    "print(\"Change the line end character from newline\", x, y, z, end=\"@\\n\")\n",
    "print(\"Change saparator\", x, y, z, sep=\"__\")\n",
    "f = open('Test.txt','w')\n",
    "print(\"Redirect to file\", x, y, z, file=f)"
   ]
  }
 ],
 "metadata": {
  "kernelspec": {
   "display_name": "Python 3",
   "language": "python",
   "name": "python3"
  },
  "language_info": {
   "codemirror_mode": {
    "name": "ipython",
    "version": 3
   },
   "file_extension": ".py",
   "mimetype": "text/x-python",
   "name": "python",
   "nbconvert_exporter": "python",
   "pygments_lexer": "ipython3",
   "version": "3.12.4"
  }
 },
 "nbformat": 4,
 "nbformat_minor": 2
}
