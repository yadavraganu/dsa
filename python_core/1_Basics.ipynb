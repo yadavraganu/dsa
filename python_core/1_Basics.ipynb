{
 "cells": [
  {
   "cell_type": "markdown",
   "metadata": {},
   "source": [
    "# 1.1 Running Python\n",
    "- Use python3 or python2 command to open python REPL (Read Evaluate Print Loop) window\n",
    "- When using python interactively the variable _ holds the result of last operation "
   ]
  },
  {
   "cell_type": "markdown",
   "metadata": {},
   "source": [
    "# 1.2 Python Programs\n",
    "- Put all the statements in a file & save as .py file\n",
    "- Python program files are UTF-8 encoded text files\n",
    "- It is comman to use #!/user/bin/env python3 on the first line of program to specify the interpreter"
   ]
  },
  {
   "cell_type": "markdown",
   "metadata": {},
   "source": [
    "# 1.3 Primitives, Variables, Expressions\n",
    "- Python provides a collection of primitive types such as int,floar,str,bool\n",
    "- A vriable is a name that refers to a value\n",
    "- A value represents an object of some type\n",
    "- Some times you might see a type attached to a name like x: int = 43 .This is just a hint for code read ability.\n",
    "- An expression is a combination of primitives,names & operations that prodcues a value\n",
    " "
   ]
  },
  {
   "cell_type": "markdown",
   "metadata": {},
   "source": [
    "# 1.4 Arithmetic Operators\n",
    "---\n",
    "- x + y --> Addition \n",
    "- x - y --> Substraction \n",
    "- x * y --> Multiplication \n",
    "- x / y --> Division ()It produces floating-point number\n",
    "- x // y --> Truncating Division (Floor Division)\n",
    "- x ** y --> Power\n",
    "- x % y --> Modulo \n",
    "- -x --> Unary Minus\n",
    "- +x --> Unary Plus\n",
    "---\n",
    "- abs(x) --> Absolute value\n",
    "- divmod(x,y) --> Returns (x // y, x % y)\n",
    "- pow(x,y[,modulo]) --> Returns (x**y) % y modulo\n",
    "- round(x,[n]) --> Rounds to n places\n",
    "---\n",
    "- x << y --> Left Shift\n",
    "- x >> y --> Right Shift\n",
    "- x & y --> Bitwise and\n",
    "- x | y --> Bitwise or\n",
    "- x ^ y --> Bitwise xor (exclusive or)\n",
    "- ~x --> Bitwise negation\n",
    "---\n",
    "- x == y --> Equal to\n",
    "- x != y --> Not equal to\n",
    "- x < y --> Less than\n",
    "- x > y --> Greater than\n",
    "- x >= y --> Greater than or equal to\n",
    "- x <= y --> Less than or equal to\n",
    "---\n",
    "- x or y --> Logical or\n",
    "- x and y --> Logical and\n",
    "- not x --> Logical not\n",
    "---\n",
    "- x += 1 --> x = x + 1\n",
    "- y *= n --> y = y * n"
   ]
  },
  {
   "cell_type": "markdown",
   "metadata": {},
   "source": [
    "# 1.5 Conditionals and Control Flow\n",
    "- break - Stops the loop\n",
    "- continue - Skips the running iteration & move the control to start of next iteration"
   ]
  },
  {
   "cell_type": "code",
   "execution_count": 16,
   "metadata": {},
   "outputs": [
    {
     "name": "stdout",
     "output_type": "stream",
     "text": [
      "b is greater\n",
      "Yes it is integer\n",
      "In elif clause\n",
      "False\n",
      "True\n",
      "1\n",
      "2\n"
     ]
    }
   ],
   "source": [
    "a, b = 1, 2\n",
    "################## if else ####################\n",
    "if a < b:\n",
    "    print(\"b is greater\")\n",
    "else:\n",
    "    print(\"a is greater or equal\")\n",
    "################## if only ####################\n",
    "if isinstance(1, int):\n",
    "    print(\"Yes it is integer\")\n",
    "################## elif ########################\n",
    "if isinstance(\"1\", int):\n",
    "    print(\"In if clause\")\n",
    "elif isinstance(1, int):\n",
    "    print(\"In elif clause\")\n",
    "else:\n",
    "    print(\"In else clause\")\n",
    "################## One Liner ####################\n",
    "print(True if 1 > 2 else False)\n",
    "print(True if 1 < 2 else False)\n",
    "################## Wallrus Operator #############\n",
    "x = 0\n",
    "while (x := x + 1) < 3:  # Equivalent to x = x + 1 if x < 3\n",
    "    print(x)"
   ]
  },
  {
   "cell_type": "markdown",
   "metadata": {},
   "source": [
    "# 1.6 Text Strings\n",
    "- `s.endswith(prefix [,start [,end]])` - Checks whether a string ends with prefix.\n",
    "- `s.find(sub [, start [,end]])` - Finds the first occurrence of the specified substring sub or -1 if not found.\n",
    "- `s.lower()` - Converts to lowercase.\n",
    "- `s.replace(old, new [,maxreplace])` - Replaces a substring.\n",
    "- `s.split([sep [,maxsplit]])` - Splits a string using sep as a delimiter. maxsplit is the maximum number of splits to perform.\n",
    "- `s.startswith(prefix [,start [,end]])` - Checks whether a string starts with prefix.\n",
    "- `s.strip([chrs])` -  Removes leading and trailing whitespace or characters supplied in chrs.\n",
    "- `s.upper()` - Converts a string to uppercase.\n"
   ]
  },
  {
   "cell_type": "code",
   "execution_count": 17,
   "metadata": {},
   "outputs": [
    {
     "name": "stdout",
     "output_type": "stream",
     "text": [
      "ello World\n",
      "Hel\n",
      "el\n",
      "yvoorg si nohtyP\n",
      "on is groov\n",
      "yhni roy\n"
     ]
    }
   ],
   "source": [
    "a = 'Hello World'\n",
    "b = \"Python is groovy\"\n",
    "c = '''Computer says no'''\n",
    "d = \"\"\"Computer still says no\"\"\" \n",
    "######################## Indexing Operator Normal ###################\n",
    "print(a[1:])\n",
    "print(a[:3])\n",
    "print(a[1:3])\n",
    "######################## Indexing Operator Reverse ###################\n",
    "print(b[::-1]) # Reverse String\n",
    "print(b[4:-1]) # Negative indexing starts from behind\n",
    "print(b[1::2]) # Start from 1 index with step of 2 till last\n",
    "#######################################################################"
   ]
  },
  {
   "cell_type": "code",
   "execution_count": 18,
   "metadata": {},
   "outputs": [
    {
     "name": "stdout",
     "output_type": "stream",
     "text": [
      "################### With out context ###################\n",
      "Line 1 File\n",
      "\n",
      "Line 2 File\n",
      "################### With context : No need to close ##############\n",
      "Line 1 File\n",
      "\n",
      "Line 2 File\n",
      "################### If need to read whole file in chunks ##############\n",
      "Read in bytes chunk \n",
      "Line 1 File\n",
      "\n",
      "Read in bytes chunk \n",
      "Line 2 File\n",
      "################### Write file ##############\n",
      "################### If need to read whole file ##############\n",
      "Hi\n",
      "Hello\n",
      "\n"
     ]
    }
   ],
   "source": [
    "# 1.7 File Input and Output\n",
    "print('################### With out context ###################')\n",
    "file = open('TestFile.txt')\n",
    "for line in file:\n",
    "    print(line)\n",
    "file.close()\n",
    "print('################### With context : No need to close ##############')\n",
    "with open('TestFile.txt') as file:\n",
    "    for line in file:\n",
    "        print(line)\n",
    "print('################### If need to read whole file in chunks ##############')\n",
    "with open('TestFile.txt') as file:   \n",
    "    while True:\n",
    "        data = file.read(12) #12 Bytes Chunk\n",
    "        if not data:\n",
    "            break\n",
    "        print(f'Read in bytes chunk \\n{data}')\n",
    "print('################### Write file ##############')\n",
    "with open('./TestFileOut.txt','wt') as file: \n",
    "    file.write('Hi\\n') \n",
    "    print('Hello', file=file)\n",
    "print('################### If need to read whole file ##############')\n",
    "with open('TestFileOut.txt') as file:\n",
    "    data = file.read() # read whole file\n",
    "    print(data)                  "
   ]
  },
  {
   "cell_type": "markdown",
   "metadata": {},
   "source": [
    "# 1.8 Lists\n",
    "- List is an mutable, ordered collection of arbitrary objects\n",
    "- Lists are indexed by integers starting with zero\n",
    "- Empty list is created by [] or list()\n",
    "- List can contain any type of hetrogeneous python objects \n",
    "- List is a container of address of object.It does not actually stores the elements it just store the address to it."
   ]
  },
  {
   "cell_type": "code",
   "execution_count": 19,
   "metadata": {},
   "outputs": [
    {
     "name": "stdout",
     "output_type": "stream",
     "text": [
      "['H', 'e', 'l', 'l']\n",
      "['G', 'o']\n",
      "[1, ['Hi']]\n",
      "Hi\n",
      "True\n"
     ]
    }
   ],
   "source": [
    "lst1 = list()\n",
    "lst2 = []\n",
    "lst3 = list(\"Hello\")  # Converting to list\n",
    "lst1.append(1)  # Appending an element\n",
    "lst2.insert(0, \"Hi\")  # Inserting an element at mentioned position\n",
    "print(lst3[0:4])  # Accessing list elements\n",
    "lst3[0:4] = [\"G\"]  # Replacing list elements\n",
    "print([x for x in lst3])\n",
    "lst1.append(lst2)  # Appending list as an element to another list\n",
    "print(lst1)\n",
    "print(lst1[1][0])  # Accessing nested elemets\n",
    "print(lst2 in lst1) # Checking Membership"
   ]
  },
  {
   "cell_type": "markdown",
   "metadata": {},
   "source": [
    "# 1.9 Tuples\n",
    "- You can pack a collection of values into an immutable object known as tuple\n",
    "- Tuple can be created by enclosing a group of values in parentheses\n",
    "- Values in tuple can be accessed using numeric index just like list\n",
    "- You can not replace,delete or append new elements in tuple"
   ]
  },
  {
   "cell_type": "code",
   "execution_count": 20,
   "metadata": {},
   "outputs": [
    {
     "name": "stdout",
     "output_type": "stream",
     "text": [
      "Hi\n",
      "True\n"
     ]
    }
   ],
   "source": [
    "t1 = ()  # Empty tuple\n",
    "t2 = (\"Hi\",)  # One Element Tuple\n",
    "t3 = (\"Hi\", \"Hello\", \"Bye\")  # One Element Tuple\n",
    "print(t2[0])  # Accessing tuple element\n",
    "print(\"Hi\" in t2)  # Checking Membership"
   ]
  },
  {
   "cell_type": "markdown",
   "metadata": {},
   "source": [
    "# 1.10 Sets\n",
    "- A set is an unordered collection of unique objects\n",
    "- Sets are used to find distinct values or to manage problems related to membership.\n",
    "- To create a set enclose a collection of values in curly braces\n",
    "- Can be created using existing collection of items to set() function\n",
    "- The elements of set are restricted to immutable objects like number,string,tuples"
   ]
  },
  {
   "cell_type": "code",
   "execution_count": 21,
   "metadata": {},
   "outputs": [
    {
     "name": "stdout",
     "output_type": "stream",
     "text": [
      "{1, 2, 3} {1, 2, 3} {1, 2, 3, 7} {1, 2, 3}\n"
     ]
    }
   ],
   "source": [
    "name1 =  {1,2,3}\n",
    "name2 =  set([1,2,3,1,2,3])\n",
    "name3 =  {i for i in [1,2,3,1,2,3,7]} # Set comprehension\n",
    "name4 = set() # Empty set\n",
    "name4.add(1) # Add an element to set\n",
    "name4.update({1,2,3,7}) # Add multiple element to set\n",
    "name4.remove(7) # Remove an element from set if not exists gives error\n",
    "name4.discard(7) # Remove an element from set if it exists\n",
    "print(name1,name2,name3,name4)\n"
   ]
  },
  {
   "cell_type": "markdown",
   "metadata": {},
   "source": [
    "# 1.11 Dictionaries\n",
    "- Dictionary is a mapping between key & values\n",
    "- Can be created by enclosing key:value pairs in {}\n",
    "- Dictionary used as mapping for performing fast lookup on unordered data.\n",
    "- Mutable objects cant be used as keys"
   ]
  },
  {
   "cell_type": "code",
   "execution_count": 22,
   "metadata": {},
   "outputs": [
    {
     "name": "stdout",
     "output_type": "stream",
     "text": [
      "GOOG\n",
      "1\n",
      "True\n",
      "dict_keys(['shares', 'price'])\n",
      "dict_values([100, 490.1])\n",
      "dict_items([('shares', 100), ('price', 490.1)])\n"
     ]
    }
   ],
   "source": [
    "a = dict()  # Empty dictionary\n",
    "b = {}  # Empty dictionary\n",
    "s = {\"name\": \"GOOG\", \"shares\": 100, \"price\": 490.10}\n",
    "print(s[\"name\"])  # Accessing using key\n",
    "print(s.get(\"name1\", 1))  # Accessing using keys with default value\n",
    "print(\"name\" in s)  # Checking Membership\n",
    "del s[\"name\"]  # Deleting keys\n",
    "print(s.keys()) # Printing only keys\n",
    "print(s.values()) # Printing only values\n",
    "print(s.items()) # Printing only items"
   ]
  },
  {
   "cell_type": "markdown",
   "metadata": {},
   "source": [
    "# 1.12 Iteration & Looping"
   ]
  },
  {
   "cell_type": "code",
   "execution_count": 23,
   "metadata": {},
   "outputs": [
    {
     "name": "stdout",
     "output_type": "stream",
     "text": [
      "0\n",
      "1\n",
      "2\n",
      "3\n",
      "0\n",
      "2\n",
      "4\n",
      "6\n",
      "8\n"
     ]
    }
   ],
   "source": [
    "for i in range(0,4):\n",
    "    print(i)\n",
    "for i in range(0,10,2):\n",
    "    print(i)"
   ]
  },
  {
   "cell_type": "markdown",
   "metadata": {},
   "source": [
    "# 1.13 Functions\n",
    "- When multiple values are getting returned from function prefer to pack them in tuple while returning\n",
    "- Use annotation & doc string for better understanding of function\n",
    "- A default value can be assined to function while defining it.Later those values can be omitted while calling it.\n",
    "- If name of all the arguments is given while calling function then order does not matter.\n",
    "- When variables are created inside a function their scope is local.\n",
    "- Meaning they are only available inside function body & destroyed when function returns\n",
    "- Functions can also access variable defined outside functions as long as they are defined in same file."
   ]
  },
  {
   "cell_type": "code",
   "execution_count": 24,
   "metadata": {},
   "outputs": [
    {
     "name": "stdout",
     "output_type": "stream",
     "text": [
      "Hello Hi 1 2\n"
     ]
    }
   ],
   "source": [
    "outer_var = 'Hi'\n",
    "def func(var1='1',var2='2'):\n",
    "    local_var = 'Hello'\n",
    "    print(local_var,outer_var,var1,var2)\n",
    "func()"
   ]
  },
  {
   "cell_type": "markdown",
   "metadata": {},
   "source": [
    "# 1.14 Exception\n",
    "- Use try except to handle exception\n",
    "- finally block gets executed everytime\n",
    "- If any error occures in try block programmes moves to exception block"
   ]
  },
  {
   "cell_type": "code",
   "execution_count": 25,
   "metadata": {},
   "outputs": [
    {
     "name": "stdout",
     "output_type": "stream",
     "text": [
      "Any other error occured\n",
      "finally block executed\n"
     ]
    }
   ],
   "source": [
    "try:\n",
    "    #int('a')\n",
    "    a =1/0\n",
    "except ValueError as err:\n",
    "    print('Value error occured')\n",
    "except:\n",
    "    print('Any other error occured')    \n",
    "finally:\n",
    "    print('finally block executed')    "
   ]
  },
  {
   "cell_type": "markdown",
   "metadata": {},
   "source": [
    "# 1.15 Program Termination\n",
    "- If you want to force a program to exit raise a SystemExit('Some Error Message')\n",
    "- On exit interpreter makes a best effort to garbage collect all object/\n",
    "- However if you need to perform some specific task before exit register it with atexit()"
   ]
  },
  {
   "cell_type": "code",
   "execution_count": 26,
   "metadata": {},
   "outputs": [
    {
     "data": {
      "text/plain": [
       "<function __main__.exit_manual()>"
      ]
     },
     "execution_count": 26,
     "metadata": {},
     "output_type": "execute_result"
    }
   ],
   "source": [
    "import atexit\n",
    "def exit_manual():\n",
    "    print('Exiting manually function')\n",
    "atexit.register(exit_manual)"
   ]
  },
  {
   "cell_type": "markdown",
   "metadata": {},
   "source": [
    "# 1.16 Objects and Classes\n",
    "- dir methods returns are list of functions available to object\n",
    "- _var to hint that attribute is hidden"
   ]
  },
  {
   "cell_type": "code",
   "execution_count": 27,
   "metadata": {},
   "outputs": [
    {
     "name": "stdout",
     "output_type": "stream",
     "text": [
      "['__add__', '__class__', '__class_getitem__', '__contains__', '__delattr__', '__delitem__', '__dir__', '__doc__', '__eq__', '__format__', '__ge__', '__getattribute__', '__getitem__', '__getstate__', '__gt__', '__hash__', '__iadd__', '__imul__', '__init__', '__init_subclass__', '__iter__', '__le__', '__len__', '__lt__', '__mul__', '__ne__', '__new__', '__reduce__', '__reduce_ex__', '__repr__', '__reversed__', '__rmul__', '__setattr__', '__setitem__', '__sizeof__', '__str__', '__subclasshook__', 'append', 'clear', 'copy', 'count', 'extend', 'index', 'insert', 'pop', 'remove', 'reverse', 'sort']\n",
      "['__class__', '__delattr__', '__dict__', '__dir__', '__doc__', '__eq__', '__format__', '__ge__', '__getattribute__', '__getstate__', '__gt__', '__hash__', '__init__', '__init_subclass__', '__le__', '__lt__', '__module__', '__ne__', '__new__', '__reduce__', '__reduce_ex__', '__repr__', '__setattr__', '__sizeof__', '__str__', '__subclasshook__', '__weakref__', '_hidden', 'add', 'show']\n"
     ]
    }
   ],
   "source": [
    "items = [1,2]\n",
    "print(dir(items))\n",
    "class Sample:\n",
    "     def __init__(self):\n",
    "          self.add = [1,2]\n",
    "          self._hidden = None\n",
    "     def show(self):\n",
    "          print(self.data)\n",
    "a = Sample()\n",
    "print(dir(a))               "
   ]
  },
  {
   "cell_type": "markdown",
   "metadata": {},
   "source": [
    "# 1.17 Modules\n",
    "- Use import to access modules \n",
    "- Create a directory with same name as file.\n",
    "- Create `__init__.py` to initiate module "
   ]
  }
 ],
 "metadata": {
  "kernelspec": {
   "display_name": "Python 3",
   "language": "python",
   "name": "python3"
  },
  "language_info": {
   "codemirror_mode": {
    "name": "ipython",
    "version": 3
   },
   "file_extension": ".py",
   "mimetype": "text/x-python",
   "name": "python",
   "nbconvert_exporter": "python",
   "pygments_lexer": "ipython3",
   "version": "3.12.4"
  }
 },
 "nbformat": 4,
 "nbformat_minor": 2
}
